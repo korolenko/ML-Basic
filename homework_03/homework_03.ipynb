{
 "cells": [
  {
   "cell_type": "markdown",
   "id": "e2450ffa",
   "metadata": {},
   "source": [
    "# Домашнее задание: Функции"
   ]
  },
  {
   "cell_type": "markdown",
   "id": "8d062500",
   "metadata": {},
   "source": [
    "## Задание 1: Конвертер регистров\n",
    "\n",
    "Написать функцию, которая будет переводить snake_case в PascalCase и наоборот. \n",
    "\n",
    "Функция должна сама определять - какой формат ей передали. Можно добавить ключевой аргумент, который будет принудительно возвращать один из форматов.\n",
    "\n",
    "<br>\n",
    "\n",
    "**Примеры:**\n",
    "* `otus_course     -> OtusCourse`\n",
    "* `PythonIsTheBest -> python_is_the_best`\n",
    "\n"
   ]
  },
  {
   "cell_type": "code",
   "id": "ec0075f5",
   "metadata": {
    "ExecuteTime": {
     "end_time": "2025-08-22T13:47:56.872843Z",
     "start_time": "2025-08-22T13:47:56.867825Z"
    }
   },
   "source": [
    "# ВАШ КОД ЗДЕСЬ\n",
    "def user_accounting():\n",
    "    users_dict = {}\n",
    "    while True:\n",
    "        print('Hello! Please input user (name:second_name:age:id)')\n",
    "        name = input_string_val('name')\n",
    "        if name == '':\n",
    "            break\n",
    "        second_name = input_string_val('second_name')\n",
    "        if second_name == '':\n",
    "            break\n",
    "        age = input_age()\n",
    "        if age is None:\n",
    "            break\n",
    "        while True:\n",
    "            id = input('Enter int id or press enter to complete input: ')\n",
    "            try:\n",
    "                int_id = int(id)\n",
    "                padded_num = \"{:08d}\".format(int_id)\n",
    "                if padded_num not in users_dict:\n",
    "                    users_dict[padded_num] = (name, second_name, age)\n",
    "                    print(f'Saved user {padded_num}: ({name}, {second_name}, {age})')\n",
    "                    break\n",
    "                else:\n",
    "                    print(f'User with {padded_num} has already been registered. Please put another id')\n",
    "                    continue\n",
    "            except ValueError:\n",
    "                print(f'You entered an invalid id: {id}')\n",
    "    print_users(users_dict)\n",
    "\n",
    "def print_users(users: dict):\n",
    "    for id, user in users.items():\n",
    "        print(f'User: id: {id} (name: {user[0]}, second_name: {user[1]}, age: {user[2]})')\n",
    "\n",
    "def input_age():\n",
    "    age = None\n",
    "    while True:\n",
    "        inputted_age = input('Please type age, it must be between 16 and 60 or press enter to complete input: ')\n",
    "        if inputted_age == '':\n",
    "            print('Finishing input age and user..')\n",
    "            break\n",
    "        try:\n",
    "            age = int(inputted_age)\n",
    "            if 16 <= age <= 60:\n",
    "                break\n",
    "            else:\n",
    "                print(f'You entered an invalid value: {age}')\n",
    "                continue\n",
    "        except ValueError:\n",
    "            print(f'You entered an invalid value {inputted_age}')\n",
    "            continue\n",
    "    print(f'Entered age: {age}')\n",
    "    return age\n",
    "\n",
    "def input_string_val(value_name):\n",
    "    while True:\n",
    "        value = input(f'Please type string {value_name} or press enter to complete input: ')\n",
    "        if value == '':\n",
    "            print(f'Finishing input {value_name} and user..')\n",
    "            break\n",
    "        if not value.isalpha():\n",
    "            print(f'You entered an invalid value {value}')\n",
    "            continue\n",
    "        else:\n",
    "            break\n",
    "    if value == '':\n",
    "        return value\n",
    "    final_value = value if value.istitle() else value.title()\n",
    "    print(f'Entered {value_name}: {final_value}')\n",
    "    return final_value\n",
    "\n",
    "user_accounting()"
   ],
   "outputs": [],
   "execution_count": 3
  },
  {
   "cell_type": "markdown",
   "id": "b8253fb9",
   "metadata": {},
   "source": [
    "## Задание 2: Проверка валидности даты\n",
    "\n",
    "Написать функцию проверяющую валидность введенной даты.\n",
    "\n",
    "<br>\n",
    "\n",
    "**Примеры:**\n",
    "* `29.02.2000 -> True`\n",
    "* `29.02.2001 -> False`\n",
    "* `31.04.1962 -> False`\n",
    "\n"
   ]
  },
  {
   "cell_type": "code",
   "id": "e7f4e9c8",
   "metadata": {
    "ExecuteTime": {
     "end_time": "2025-08-22T13:52:35.192405Z",
     "start_time": "2025-08-22T13:52:35.188004Z"
    }
   },
   "source": [
    "# ВАШ КОД ЗДЕСЬ\n",
    "import datetime\n",
    "\n",
    "def is_valid_date(date) -> bool:\n",
    "    if isinstance(date, str):\n",
    "        correct_date = date.split('.')\n",
    "        day = int(correct_date[0])\n",
    "        month = int(correct_date[1])\n",
    "        year = int(correct_date[2])\n",
    "        try:\n",
    "            datetime.datetime(year,month,day)\n",
    "            return True\n",
    "        except ValueError:\n",
    "            return False\n",
    "    else:\n",
    "        raise TypeError('Not a valid input')\n",
    "\n",
    "assert is_valid_date('29.02.2000') == True\n",
    "assert is_valid_date('29.02.2001') == False\n",
    "assert is_valid_date('31.04.1962') == False"
   ],
   "outputs": [
    {
     "name": "stdout",
     "output_type": "stream",
     "text": [
      "True\n",
      "False\n",
      "False\n"
     ]
    }
   ],
   "execution_count": 6
  },
  {
   "cell_type": "markdown",
   "id": "2d77053e",
   "metadata": {},
   "source": [
    "## Задание 3: Проверка на простое число\n",
    "\n",
    "Функция проверки на простое число. Простые числа – это такие числа, которые делятся на себя и на единицу.\n",
    "\n",
    "<br>\n",
    "\n",
    "**Примеры:**\n",
    "* `17 -> True`\n",
    "* `20 -> False`\n",
    "* `23 -> True`"
   ]
  },
  {
   "cell_type": "code",
   "id": "c20728f6",
   "metadata": {
    "ExecuteTime": {
     "end_time": "2025-08-22T14:06:45.066649Z",
     "start_time": "2025-08-22T14:06:45.062883Z"
    }
   },
   "source": [
    "# ВАШ КОД ЗДЕСЬ\n",
    "def is_simple_number(number: int) -> bool:\n",
    "    is_simple = True\n",
    "    if isinstance(number, int):\n",
    "        abs_number = abs(number)\n",
    "        counter = 2\n",
    "        while counter < abs_number:\n",
    "            if abs_number % counter == 0:\n",
    "                is_simple = False\n",
    "                break\n",
    "            counter += 1\n",
    "        return is_simple\n",
    "    else:\n",
    "        raise TypeError('Not a number')\n",
    "\n",
    "assert is_simple_number(17) == True\n",
    "assert is_simple_number(20) == False\n",
    "assert is_simple_number(23) == True"
   ],
   "outputs": [],
   "execution_count": 16
  },
  {
   "cell_type": "markdown",
   "id": "29703efe",
   "metadata": {},
   "source": [
    "## Задание 4: Учет пользователей\n",
    "\n",
    "Пользователь в бесконечном цикле вводит данные пользователей: имя, затем фамилию, возраст и ID. Ввод продолжается до тех пор, пока не будет введено пустое поле. \n",
    "\n",
    "Пользователи заносятся в словарь, где ключ это ID пользователя, а остальные данные записываются в виде кортежа. \n",
    "\n",
    "**Программа должна проверять:**\n",
    "* имя и фамилия состоят только из символов и начинаются с большой буквы - если не с большой, то заменяет букву на большую;\n",
    "* возраст должен быть числом от 18 до 60;\n",
    "* ID - целое число, дополненное до 8 знаков незначащими нулями, ID должен быть уникальным.\n",
    "\n",
    "**Дополнительно:** написать функцию, которая будет выводить полученный словарь в виде таблицы."
   ]
  },
  {
   "cell_type": "code",
   "id": "54d1f971",
   "metadata": {
    "ExecuteTime": {
     "end_time": "2025-08-22T20:02:31.503662Z",
     "start_time": "2025-08-22T20:02:21.842587Z"
    }
   },
   "source": [
    "# ВАШ КОД ЗДЕСЬ\n",
    "def user_accounting():\n",
    "    users = get_users()\n",
    "    for user in users:\n",
    "        print(user)\n",
    "\n",
    "\n",
    "\n",
    "def get_users():\n",
    "    users_dict = {}\n",
    "    while True:\n",
    "        print('Hello! Please input user (name:second_name:age:id')\n",
    "        name = input_string_val('name')\n",
    "        second_name = input_string_val('second_name')\n",
    "        age = input_age()\n",
    "        while True:\n",
    "            id = input('Enter int id or press enter to complete input: ')\n",
    "            if isinstance(id, int):\n",
    "                padded_num = \"{:08d}\".format(id)\n",
    "                if padded_num not in users_dict:\n",
    "                    users_dict[id] = (name, second_name,age)\n",
    "                    print(f'Saved user {padded_num}: {name}: {second_name}: {age}')\n",
    "                    break\n",
    "                else:\n",
    "                    print(f'User with {padded_num} has been already registered. Please put another id')\n",
    "                    continue\n",
    "            else:\n",
    "                print(f'You entered an invalid value')\n",
    "                continue\n",
    "\n",
    "def input_age():\n",
    "    age = None\n",
    "    while True:\n",
    "        inputed_age = input('Please type age, it must be between 16 and 60 or press enter to complete input: ')\n",
    "        if inputed_age == '':\n",
    "                print('Finishing input age and user..')\n",
    "                break\n",
    "        try:\n",
    "            age = int(inputed_age)\n",
    "            if 16 <= age <= 60:\n",
    "                break\n",
    "            else:\n",
    "                print(f'You entered an invalid value')\n",
    "                continue\n",
    "        except ValueError:\n",
    "            print(f'You entered an invalid value')\n",
    "            continue\n",
    "    print(f'Entered age: {age}')\n",
    "    return age\n",
    "\n",
    "def input_string_val(value_name):\n",
    "    while True:\n",
    "        value = input(f'Please type string {value_name} or press enter to complete input: ')\n",
    "        if value == '':\n",
    "                print(f'Finishing input {value_name} and user..')\n",
    "                break\n",
    "        if not value.isalpha():\n",
    "            print('You entered an invalid value')\n",
    "            continue\n",
    "        else:\n",
    "           break\n",
    "    final_value = value if value.istitle() else value.title()\n",
    "    print(f'Entered {value_name}: {final_value}')\n",
    "    return final_value\n",
    "\n",
    "user_accounting()"
   ],
   "outputs": [
    {
     "name": "stdout",
     "output_type": "stream",
     "text": [
      "Hello! Please input user (name:second_name:age:id\n"
     ]
    },
    {
     "ename": "KeyboardInterrupt",
     "evalue": "Interrupted by user",
     "output_type": "error",
     "traceback": [
      "\u001B[31m---------------------------------------------------------------------------\u001B[39m",
      "\u001B[31mKeyboardInterrupt\u001B[39m                         Traceback (most recent call last)",
      "\u001B[36mCell\u001B[39m\u001B[36m \u001B[39m\u001B[32mIn[3]\u001B[39m\u001B[32m, line 66\u001B[39m\n\u001B[32m     63\u001B[39m     \u001B[38;5;28mprint\u001B[39m(\u001B[33mf\u001B[39m\u001B[33m'\u001B[39m\u001B[33mEntered \u001B[39m\u001B[38;5;132;01m{\u001B[39;00mvalue_name\u001B[38;5;132;01m}\u001B[39;00m\u001B[33m: \u001B[39m\u001B[38;5;132;01m{\u001B[39;00mfinal_value\u001B[38;5;132;01m}\u001B[39;00m\u001B[33m'\u001B[39m)\n\u001B[32m     64\u001B[39m     \u001B[38;5;28;01mreturn\u001B[39;00m final_value\n\u001B[32m---> \u001B[39m\u001B[32m66\u001B[39m \u001B[43muser_accounting\u001B[49m\u001B[43m(\u001B[49m\u001B[43m)\u001B[49m\n",
      "\u001B[36mCell\u001B[39m\u001B[36m \u001B[39m\u001B[32mIn[3]\u001B[39m\u001B[32m, line 3\u001B[39m, in \u001B[36muser_accounting\u001B[39m\u001B[34m()\u001B[39m\n\u001B[32m      2\u001B[39m \u001B[38;5;28;01mdef\u001B[39;00m\u001B[38;5;250m \u001B[39m\u001B[34muser_accounting\u001B[39m():\n\u001B[32m----> \u001B[39m\u001B[32m3\u001B[39m     users = \u001B[43mget_users\u001B[49m\u001B[43m(\u001B[49m\u001B[43m)\u001B[49m\n\u001B[32m      4\u001B[39m     \u001B[38;5;28;01mfor\u001B[39;00m user \u001B[38;5;129;01min\u001B[39;00m users:\n\u001B[32m      5\u001B[39m         \u001B[38;5;28mprint\u001B[39m(user)\n",
      "\u001B[36mCell\u001B[39m\u001B[36m \u001B[39m\u001B[32mIn[3]\u001B[39m\u001B[32m, line 13\u001B[39m, in \u001B[36mget_users\u001B[39m\u001B[34m()\u001B[39m\n\u001B[32m     11\u001B[39m \u001B[38;5;28;01mwhile\u001B[39;00m \u001B[38;5;28;01mTrue\u001B[39;00m:\n\u001B[32m     12\u001B[39m     \u001B[38;5;28mprint\u001B[39m(\u001B[33m'\u001B[39m\u001B[33mHello! Please input user (name:second_name:age:id\u001B[39m\u001B[33m'\u001B[39m)\n\u001B[32m---> \u001B[39m\u001B[32m13\u001B[39m     name = \u001B[43minput_string_val\u001B[49m\u001B[43m(\u001B[49m\u001B[33;43m'\u001B[39;49m\u001B[33;43mname\u001B[39;49m\u001B[33;43m'\u001B[39;49m\u001B[43m)\u001B[49m\n\u001B[32m     14\u001B[39m     second_name = input_string_val(\u001B[33m'\u001B[39m\u001B[33msecond_name\u001B[39m\u001B[33m'\u001B[39m)\n\u001B[32m     15\u001B[39m     age = input_age()\n",
      "\u001B[36mCell\u001B[39m\u001B[36m \u001B[39m\u001B[32mIn[3]\u001B[39m\u001B[32m, line 53\u001B[39m, in \u001B[36minput_string_val\u001B[39m\u001B[34m(value_name)\u001B[39m\n\u001B[32m     51\u001B[39m \u001B[38;5;28;01mdef\u001B[39;00m\u001B[38;5;250m \u001B[39m\u001B[34minput_string_val\u001B[39m(value_name):\n\u001B[32m     52\u001B[39m     \u001B[38;5;28;01mwhile\u001B[39;00m \u001B[38;5;28;01mTrue\u001B[39;00m:\n\u001B[32m---> \u001B[39m\u001B[32m53\u001B[39m         value = \u001B[38;5;28;43minput\u001B[39;49m\u001B[43m(\u001B[49m\u001B[33;43mf\u001B[39;49m\u001B[33;43m'\u001B[39;49m\u001B[33;43mPlease type string \u001B[39;49m\u001B[38;5;132;43;01m{\u001B[39;49;00m\u001B[43mvalue_name\u001B[49m\u001B[38;5;132;43;01m}\u001B[39;49;00m\u001B[33;43m or press enter to complete input: \u001B[39;49m\u001B[33;43m'\u001B[39;49m\u001B[43m)\u001B[49m\n\u001B[32m     54\u001B[39m         \u001B[38;5;28;01mif\u001B[39;00m value == \u001B[33m'\u001B[39m\u001B[33m'\u001B[39m:\n\u001B[32m     55\u001B[39m                 \u001B[38;5;28mprint\u001B[39m(\u001B[33mf\u001B[39m\u001B[33m'\u001B[39m\u001B[33mFinishing input \u001B[39m\u001B[38;5;132;01m{\u001B[39;00mvalue_name\u001B[38;5;132;01m}\u001B[39;00m\u001B[33m and user..\u001B[39m\u001B[33m'\u001B[39m)\n",
      "\u001B[36mFile \u001B[39m\u001B[32m~\\AppData\\Local\\Programs\\Python\\Python312\\Lib\\site-packages\\ipykernel\\kernelbase.py:1275\u001B[39m, in \u001B[36mKernel.raw_input\u001B[39m\u001B[34m(self, prompt)\u001B[39m\n\u001B[32m   1273\u001B[39m     msg = \u001B[33m\"\u001B[39m\u001B[33mraw_input was called, but this frontend does not support input requests.\u001B[39m\u001B[33m\"\u001B[39m\n\u001B[32m   1274\u001B[39m     \u001B[38;5;28;01mraise\u001B[39;00m StdinNotImplementedError(msg)\n\u001B[32m-> \u001B[39m\u001B[32m1275\u001B[39m \u001B[38;5;28;01mreturn\u001B[39;00m \u001B[38;5;28;43mself\u001B[39;49m\u001B[43m.\u001B[49m\u001B[43m_input_request\u001B[49m\u001B[43m(\u001B[49m\n\u001B[32m   1276\u001B[39m \u001B[43m    \u001B[49m\u001B[38;5;28;43mstr\u001B[39;49m\u001B[43m(\u001B[49m\u001B[43mprompt\u001B[49m\u001B[43m)\u001B[49m\u001B[43m,\u001B[49m\n\u001B[32m   1277\u001B[39m \u001B[43m    \u001B[49m\u001B[38;5;28;43mself\u001B[39;49m\u001B[43m.\u001B[49m\u001B[43m_parent_ident\u001B[49m\u001B[43m[\u001B[49m\u001B[33;43m\"\u001B[39;49m\u001B[33;43mshell\u001B[39;49m\u001B[33;43m\"\u001B[39;49m\u001B[43m]\u001B[49m\u001B[43m,\u001B[49m\n\u001B[32m   1278\u001B[39m \u001B[43m    \u001B[49m\u001B[38;5;28;43mself\u001B[39;49m\u001B[43m.\u001B[49m\u001B[43mget_parent\u001B[49m\u001B[43m(\u001B[49m\u001B[33;43m\"\u001B[39;49m\u001B[33;43mshell\u001B[39;49m\u001B[33;43m\"\u001B[39;49m\u001B[43m)\u001B[49m\u001B[43m,\u001B[49m\n\u001B[32m   1279\u001B[39m \u001B[43m    \u001B[49m\u001B[43mpassword\u001B[49m\u001B[43m=\u001B[49m\u001B[38;5;28;43;01mFalse\u001B[39;49;00m\u001B[43m,\u001B[49m\n\u001B[32m   1280\u001B[39m \u001B[43m\u001B[49m\u001B[43m)\u001B[49m\n",
      "\u001B[36mFile \u001B[39m\u001B[32m~\\AppData\\Local\\Programs\\Python\\Python312\\Lib\\site-packages\\ipykernel\\kernelbase.py:1320\u001B[39m, in \u001B[36mKernel._input_request\u001B[39m\u001B[34m(self, prompt, ident, parent, password)\u001B[39m\n\u001B[32m   1317\u001B[39m \u001B[38;5;28;01mexcept\u001B[39;00m \u001B[38;5;167;01mKeyboardInterrupt\u001B[39;00m:\n\u001B[32m   1318\u001B[39m     \u001B[38;5;66;03m# re-raise KeyboardInterrupt, to truncate traceback\u001B[39;00m\n\u001B[32m   1319\u001B[39m     msg = \u001B[33m\"\u001B[39m\u001B[33mInterrupted by user\u001B[39m\u001B[33m\"\u001B[39m\n\u001B[32m-> \u001B[39m\u001B[32m1320\u001B[39m     \u001B[38;5;28;01mraise\u001B[39;00m \u001B[38;5;167;01mKeyboardInterrupt\u001B[39;00m(msg) \u001B[38;5;28;01mfrom\u001B[39;00m\u001B[38;5;250m \u001B[39m\u001B[38;5;28;01mNone\u001B[39;00m\n\u001B[32m   1321\u001B[39m \u001B[38;5;28;01mexcept\u001B[39;00m \u001B[38;5;167;01mException\u001B[39;00m:\n\u001B[32m   1322\u001B[39m     \u001B[38;5;28mself\u001B[39m.log.warning(\u001B[33m\"\u001B[39m\u001B[33mInvalid Message:\u001B[39m\u001B[33m\"\u001B[39m, exc_info=\u001B[38;5;28;01mTrue\u001B[39;00m)\n",
      "\u001B[31mKeyboardInterrupt\u001B[39m: Interrupted by user"
     ]
    }
   ],
   "execution_count": 3
  },
  {
   "metadata": {},
   "cell_type": "code",
   "outputs": [],
   "execution_count": null,
   "source": "",
   "id": "b93a614169d365fd"
  }
 ],
 "metadata": {
  "kernelspec": {
   "display_name": ".venv (3.11.12)",
   "language": "python",
   "name": "python3"
  },
  "language_info": {
   "name": "python",
   "version": "3.11.12"
  }
 },
 "nbformat": 4,
 "nbformat_minor": 5
}
