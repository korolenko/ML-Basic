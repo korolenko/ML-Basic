{
 "cells": [
  {
   "cell_type": "markdown",
   "id": "e2450ffa",
   "metadata": {},
   "source": [
    "# Домашнее задание: Функции"
   ]
  },
  {
   "cell_type": "markdown",
   "id": "8d062500",
   "metadata": {},
   "source": [
    "## Задание 1: Конвертер регистров\n",
    "\n",
    "Написать функцию, которая будет переводить snake_case в PascalCase и наоборот. \n",
    "\n",
    "Функция должна сама определять - какой формат ей передали. Можно добавить ключевой аргумент, который будет принудительно возвращать один из форматов.\n",
    "\n",
    "<br>\n",
    "\n",
    "**Примеры:**\n",
    "* `otus_course     -> OtusCourse`\n",
    "* `PythonIsTheBest -> python_is_the_best`\n",
    "\n"
   ]
  },
  {
   "cell_type": "code",
   "id": "ec0075f5",
   "metadata": {
    "ExecuteTime": {
     "end_time": "2025-08-22T13:47:56.872843Z",
     "start_time": "2025-08-22T13:47:56.867825Z"
    }
   },
   "source": [
    "# ВАШ КОД ЗДЕСЬ\n",
    "from typing import Any\n",
    "\n",
    "def convert_case(phrase, case_to_convert=None) -> Any:\n",
    "    current_case = define_case(phrase)\n",
    "    if case_to_convert is None:\n",
    "        if current_case.upper() == 'SNAKE_CASE':\n",
    "            return convert_to_pascal_case(phrase)\n",
    "        elif current_case.upper() == 'PASCAL_CASE':\n",
    "            return convert_to_snake_case(phrase)\n",
    "        else:\n",
    "            raise ValueError('case_to_convert must be SNAKE_CASE or PASCAL_CASE')\n",
    "    if case_to_convert is not None:\n",
    "        if case_to_convert.upper() == 'SNAKE_CASE' and current_case.upper() == 'SNAKE_CASE':\n",
    "            return phrase\n",
    "        elif case_to_convert.upper() == 'SNAKE_CASE' and current_case.upper() == 'PASCAL_CASE':\n",
    "            return convert_to_snake_case(phrase)\n",
    "        if case_to_convert.upper() == 'PASCAL_CASE' and current_case.upper() == 'PASCAL_CASE':\n",
    "            return phrase\n",
    "        elif case_to_convert.upper() == 'PASCAL_CASE' and current_case.upper() == 'SNAKE_CASE':\n",
    "            return convert_to_pascal_case(phrase)\n",
    "\n",
    "def convert_to_pascal_case(phrase):\n",
    "    phrase = phrase.replace('_',' ').title().replace(' ','')\n",
    "    return phrase\n",
    "\n",
    "def convert_to_snake_case(phrase):\n",
    "    camel_case = phrase[0].lower()\n",
    "    for c in phrase[1:]:\n",
    "        camel_case += '_{}'.format(c.lower()) if c.isupper() else c\n",
    "    return camel_case\n",
    "\n",
    "def define_case(phrase:str):\n",
    "    has_uppercase = False\n",
    "    for i in phrase:\n",
    "        if i.istitle():\n",
    "            has_uppercase = True\n",
    "            break\n",
    "    if phrase.find('_') == -1 and has_uppercase:\n",
    "        return 'PASCAL_CASE'\n",
    "    elif phrase.find('_') != -1 and not has_uppercase:\n",
    "        return 'SNAKE_CASE'\n",
    "    else:\n",
    "        raise ValueError('Unable to define case')\n",
    "\n",
    "assert convert_case('otus_course') == 'OtusCourse'\n",
    "assert convert_case('PythonIsTheBest') == 'python_is_the_best'"
   ],
   "outputs": [],
   "execution_count": 3
  },
  {
   "cell_type": "markdown",
   "id": "b8253fb9",
   "metadata": {},
   "source": [
    "## Задание 2: Проверка валидности даты\n",
    "\n",
    "Написать функцию проверяющую валидность введенной даты.\n",
    "\n",
    "<br>\n",
    "\n",
    "**Примеры:**\n",
    "* `29.02.2000 -> True`\n",
    "* `29.02.2001 -> False`\n",
    "* `31.04.1962 -> False`\n",
    "\n"
   ]
  },
  {
   "cell_type": "code",
   "id": "e7f4e9c8",
   "metadata": {
    "ExecuteTime": {
     "end_time": "2025-08-22T13:52:35.192405Z",
     "start_time": "2025-08-22T13:52:35.188004Z"
    }
   },
   "source": [
    "# ВАШ КОД ЗДЕСЬ\n",
    "import datetime\n",
    "\n",
    "def is_valid_date(date) -> bool:\n",
    "    if isinstance(date, str):\n",
    "        correct_date = date.split('.')\n",
    "        day = int(correct_date[0])\n",
    "        month = int(correct_date[1])\n",
    "        year = int(correct_date[2])\n",
    "        try:\n",
    "            datetime.datetime(year,month,day)\n",
    "            return True\n",
    "        except ValueError:\n",
    "            return False\n",
    "    else:\n",
    "        raise TypeError('Not a valid input')\n",
    "\n",
    "assert is_valid_date('29.02.2000') == True\n",
    "assert is_valid_date('29.02.2001') == False\n",
    "assert is_valid_date('31.04.1962') == False"
   ],
   "outputs": [
    {
     "name": "stdout",
     "output_type": "stream",
     "text": [
      "True\n",
      "False\n",
      "False\n"
     ]
    }
   ],
   "execution_count": 6
  },
  {
   "cell_type": "markdown",
   "id": "2d77053e",
   "metadata": {},
   "source": [
    "## Задание 3: Проверка на простое число\n",
    "\n",
    "Функция проверки на простое число. Простые числа – это такие числа, которые делятся на себя и на единицу.\n",
    "\n",
    "<br>\n",
    "\n",
    "**Примеры:**\n",
    "* `17 -> True`\n",
    "* `20 -> False`\n",
    "* `23 -> True`"
   ]
  },
  {
   "cell_type": "code",
   "id": "c20728f6",
   "metadata": {
    "ExecuteTime": {
     "end_time": "2025-08-22T20:44:12.480867Z",
     "start_time": "2025-08-22T20:44:12.473359Z"
    }
   },
   "source": [
    "# ВАШ КОД ЗДЕСЬ\n",
    "def is_simple_number(number: int) -> bool:\n",
    "    is_simple = True\n",
    "    if isinstance(number, int):\n",
    "        abs_number = abs(number)\n",
    "        counter = 2\n",
    "        while counter < abs_number:\n",
    "            if not abs_number % counter:\n",
    "                is_simple = False\n",
    "                break\n",
    "            counter += 1\n",
    "        return is_simple\n",
    "    else:\n",
    "        raise TypeError('Not a number')\n",
    "\n",
    "assert is_simple_number(17) == True\n",
    "assert is_simple_number(20) == False\n",
    "assert is_simple_number(23) == True"
   ],
   "outputs": [],
   "execution_count": 5
  },
  {
   "cell_type": "markdown",
   "id": "29703efe",
   "metadata": {},
   "source": [
    "## Задание 4: Учет пользователей\n",
    "\n",
    "Пользователь в бесконечном цикле вводит данные пользователей: имя, затем фамилию, возраст и ID. Ввод продолжается до тех пор, пока не будет введено пустое поле. \n",
    "\n",
    "Пользователи заносятся в словарь, где ключ это ID пользователя, а остальные данные записываются в виде кортежа. \n",
    "\n",
    "**Программа должна проверять:**\n",
    "* имя и фамилия состоят только из символов и начинаются с большой буквы - если не с большой, то заменяет букву на большую;\n",
    "* возраст должен быть числом от 18 до 60;\n",
    "* ID - целое число, дополненное до 8 знаков незначащими нулями, ID должен быть уникальным.\n",
    "\n",
    "**Дополнительно:** написать функцию, которая будет выводить полученный словарь в виде таблицы."
   ]
  },
  {
   "cell_type": "code",
   "id": "54d1f971",
   "metadata": {
    "ExecuteTime": {
     "end_time": "2025-08-22T20:38:44.122430Z",
     "start_time": "2025-08-22T20:38:07.733057Z"
    }
   },
   "source": [
    "# ВАШ КОД ЗДЕСЬ\n",
    "def user_accounting():\n",
    "    users_dict = {}\n",
    "    while True:\n",
    "        print('Hello! Please input user (name:second_name:age:id)')\n",
    "        name = input_string_val('name')\n",
    "        if name == '':\n",
    "            break\n",
    "        second_name = input_string_val('second_name')\n",
    "        if second_name == '':\n",
    "            break\n",
    "        age = input_age()\n",
    "        if age is None:\n",
    "            break\n",
    "        while True:\n",
    "            id = input('Enter int id or press enter to complete input: ')\n",
    "            try:\n",
    "                int_id = int(id)\n",
    "                padded_id = \"{:08d}\".format(int_id)\n",
    "                if padded_id not in users_dict:\n",
    "                    users_dict[padded_id] = (name, second_name, age)\n",
    "                    print(f'Saved user {padded_id}: ({name}, {second_name}, {age})')\n",
    "                    break\n",
    "                else:\n",
    "                    print(f'User with {padded_id} has already been registered. Please put another id')\n",
    "                    continue\n",
    "            except ValueError:\n",
    "                print(f'You entered an invalid id: {id}')\n",
    "    print_users(users_dict)\n",
    "\n",
    "def print_users(users: dict):\n",
    "    for id, user in users.items():\n",
    "        print(f'User: id: {id} (name: {user[0]}, second_name: {user[1]}, age: {user[2]})')\n",
    "\n",
    "def input_age():\n",
    "    age = None\n",
    "    while True:\n",
    "        inputted_age = input('Please type age, it must be between 16 and 60 or press enter to complete input: ')\n",
    "        if inputted_age == '':\n",
    "            print('Finishing input age and user..')\n",
    "            break\n",
    "        try:\n",
    "            age = int(inputted_age)\n",
    "            if 16 <= age <= 60:\n",
    "                break\n",
    "            else:\n",
    "                print(f'You entered an invalid value: {age}')\n",
    "                continue\n",
    "        except ValueError:\n",
    "            print(f'You entered an invalid value {inputted_age}')\n",
    "            continue\n",
    "    print(f'Entered age: {age}')\n",
    "    return age\n",
    "\n",
    "def input_string_val(value_name):\n",
    "    while True:\n",
    "        value = input(f'Please type string {value_name} or press enter to complete input: ')\n",
    "        if value == '':\n",
    "            print(f'Finishing input {value_name} and user..')\n",
    "            break\n",
    "        if not value.isalpha():\n",
    "            print(f'You entered an invalid value {value}')\n",
    "            continue\n",
    "        else:\n",
    "            break\n",
    "    if value == '':\n",
    "        return value\n",
    "    final_value = value if value.istitle() else value.title()\n",
    "    print(f'Entered {value_name}: {final_value}')\n",
    "    return final_value\n",
    "\n",
    "user_accounting()"
   ],
   "outputs": [
    {
     "name": "stdout",
     "output_type": "stream",
     "text": [
      "Hello! Please input user (name:second_name:age:id)\n",
      "Entered name: Ivan\n",
      "Entered second_name: Ivanov\n",
      "Entered age: 16\n",
      "Saved user 00000001: (Ivan, Ivanov, 16)\n",
      "Hello! Please input user (name:second_name:age:id)\n",
      "Entered name: Ivan\n",
      "Entered second_name: Petrov\n",
      "Entered age: 44\n",
      "Saved user 00000002: (Ivan, Petrov, 44)\n",
      "Hello! Please input user (name:second_name:age:id)\n",
      "Finishing input name and user..\n",
      "User: id: 00000001 (name: Ivan, second_name: Ivanov, age: 16)\n",
      "User: id: 00000002 (name: Ivan, second_name: Petrov, age: 44)\n"
     ]
    }
   ],
   "execution_count": 4
  },
  {
   "metadata": {},
   "cell_type": "code",
   "outputs": [],
   "execution_count": null,
   "source": "",
   "id": "b93a614169d365fd"
  }
 ],
 "metadata": {
  "kernelspec": {
   "display_name": ".venv (3.11.12)",
   "language": "python",
   "name": "python3"
  },
  "language_info": {
   "name": "python",
   "version": "3.11.12"
  }
 },
 "nbformat": 4,
 "nbformat_minor": 5
}
