{
 "cells": [
  {
   "cell_type": "markdown",
   "metadata": {},
   "source": [
    "# Я художник, я так вижу, визуализация данных в питоне"
   ]
  },
  {
   "cell_type": "markdown",
   "metadata": {},
   "source": [
    "# I. Numpy"
   ]
  },
  {
   "cell_type": "markdown",
   "metadata": {},
   "source": [
    "### Импортируйте NumPy"
   ]
  },
  {
   "cell_type": "code",
   "metadata": {
    "ExecuteTime": {
     "end_time": "2025-10-26T14:23:07.877893Z",
     "start_time": "2025-10-26T14:23:07.872928Z"
    }
   },
   "source": [
    "# ВАШ КОД ЗДЕСЬ\n",
    "import numpy as np"
   ],
   "outputs": [],
   "execution_count": 3
  },
  {
   "cell_type": "markdown",
   "metadata": {},
   "source": [
    "### Создайте одномерный массив размера 10, заполненный нулями и пятым элемент равным 1. Трансформируйте в двумерный массив."
   ]
  },
  {
   "cell_type": "code",
   "metadata": {
    "ExecuteTime": {
     "end_time": "2025-10-26T14:28:29.784408Z",
     "start_time": "2025-10-26T14:28:29.780472Z"
    }
   },
   "source": [
    "# ВАШ КОД ЗДЕСЬ\n",
    "arr_1d = np.zeros((10,), dtype=int)\n",
    "arr_1d.put(5,1)\n",
    "arr_2d = arr_1d.reshape(2,5)\n",
    "print(f'arr_1d = {arr_1d}')\n",
    "print(f'arr_2d = {arr_2d}')"
   ],
   "outputs": [
    {
     "name": "stdout",
     "output_type": "stream",
     "text": [
      "arr_1d = [0 0 0 0 0 1 0 0 0 0]\n",
      "arr_2d = [[0 0 0 0 0]\n",
      " [1 0 0 0 0]]\n"
     ]
    }
   ],
   "execution_count": 14
  },
  {
   "cell_type": "markdown",
   "metadata": {},
   "source": [
    "### Создайте одномерный массив со значениями от 10 до 49 и разверните его (первый элемент становится последним). Найдите в нем все четные элементы."
   ]
  },
  {
   "cell_type": "code",
   "metadata": {
    "ExecuteTime": {
     "end_time": "2025-10-26T14:55:10.068254Z",
     "start_time": "2025-10-26T14:55:10.064645Z"
    }
   },
   "source": [
    "# ВАШ КОД ЗДЕСЬ\n",
    "arr = np.arange(10, 50, dtype=int)\n",
    "flipped_arr = np.flip(arr)\n",
    "print(arr)\n",
    "print(flipped_arr)\n",
    "\n",
    "#1 способ\n",
    "even_mask = flipped_arr % 2 == 0\n",
    "even_arr = set(int(value) for value in flipped_arr[even_mask])\n",
    "print(f'even_arr: {even_arr}')\n",
    "\n",
    "#2 способ\n",
    "even = set()\n",
    "for value in flipped_arr:\n",
    "    if value % 2 == 0:\n",
    "        even.add(int(value))\n",
    "print(f'even arr = {even}')"
   ],
   "outputs": [
    {
     "name": "stdout",
     "output_type": "stream",
     "text": [
      "[10 11 12 13 14 15 16 17 18 19 20 21 22 23 24 25 26 27 28 29 30 31 32 33\n",
      " 34 35 36 37 38 39 40 41 42 43 44 45 46 47 48 49]\n",
      "[49 48 47 46 45 44 43 42 41 40 39 38 37 36 35 34 33 32 31 30 29 28 27 26\n",
      " 25 24 23 22 21 20 19 18 17 16 15 14 13 12 11 10]\n",
      "even_arr: {10, 12, 14, 16, 18, 20, 22, 24, 26, 28, 30, 32, 34, 36, 38, 40, 42, 44, 46, 48}\n",
      "even arr = {10, 12, 14, 16, 18, 20, 22, 24, 26, 28, 30, 32, 34, 36, 38, 40, 42, 44, 46, 48}\n"
     ]
    }
   ],
   "execution_count": 43
  },
  {
   "cell_type": "markdown",
   "metadata": {},
   "source": [
    "### Создайте двумерный массив 3x3 со значениями от 0 до 8"
   ]
  },
  {
   "cell_type": "code",
   "metadata": {
    "ExecuteTime": {
     "end_time": "2025-10-26T14:39:05.735820Z",
     "start_time": "2025-10-26T14:39:05.732346Z"
    }
   },
   "source": [
    "# ВАШ КОД ЗДЕСЬ\n",
    "arr = np.arange(0,9, dtype=int).reshape(3,3)\n",
    "print(arr)"
   ],
   "outputs": [
    {
     "name": "stdout",
     "output_type": "stream",
     "text": [
      "[[0 1 2]\n",
      " [3 4 5]\n",
      " [6 7 8]]\n"
     ]
    }
   ],
   "execution_count": 27
  },
  {
   "cell_type": "markdown",
   "metadata": {},
   "source": [
    "### Создайте массив 4x3x2 со случайными значениями. Найти его минимум и максимум."
   ]
  },
  {
   "cell_type": "code",
   "metadata": {
    "ExecuteTime": {
     "end_time": "2025-10-26T14:42:04.931401Z",
     "start_time": "2025-10-26T14:42:04.927600Z"
    }
   },
   "source": [
    "# ВАШ КОД ЗДЕСЬ\n",
    "arr = np.random.randn(4, 3, 2)\n",
    "print(arr)\n",
    "min_val = arr.min()\n",
    "max_val = arr.max()\n",
    "print(min_val, max_val)"
   ],
   "outputs": [
    {
     "name": "stdout",
     "output_type": "stream",
     "text": [
      "[[[ 1.38507362 -0.73713559]\n",
      "  [ 0.07956441 -0.19516397]\n",
      "  [ 1.55688425  1.11633046]]\n",
      "\n",
      " [[-0.4022084   2.0966573 ]\n",
      "  [-0.44130588 -0.76256619]\n",
      "  [ 0.62164251 -0.53312402]]\n",
      "\n",
      " [[ 0.36988914 -0.70692788]\n",
      "  [-2.81413292 -2.43551054]\n",
      "  [ 0.4201037   0.946563  ]]\n",
      "\n",
      " [[ 0.72123558  1.07774012]\n",
      "  [-0.54703543  0.33902844]\n",
      "  [ 0.2644891  -0.05499134]]]\n",
      "-2.8141329230403196 2.096657301245623\n"
     ]
    }
   ],
   "execution_count": 31
  },
  {
   "cell_type": "markdown",
   "metadata": {},
   "source": [
    "### Создайте два двумерных массива размерами 6x4 и 4x3 и произведите их матричное умножение. "
   ]
  },
  {
   "cell_type": "code",
   "metadata": {
    "ExecuteTime": {
     "end_time": "2025-10-26T14:46:26.052088Z",
     "start_time": "2025-10-26T14:46:26.047056Z"
    }
   },
   "source": [
    "# ВАШ КОД ЗДЕСЬ\n",
    "random_array_6_4 = np.random.rand(6, 4)\n",
    "random_array_4_3 = np.random.rand(4, 3)\n",
    "print(random_array_6_4)\n",
    "print(random_array_4_3)\n",
    "\n",
    "res = random_array_6_4 @ random_array_4_3\n",
    "print(res)\n"
   ],
   "outputs": [
    {
     "name": "stdout",
     "output_type": "stream",
     "text": [
      "[[0.28352688 0.54184858 0.76693691 0.65052459]\n",
      " [0.90115245 0.91723331 0.2509339  0.83516847]\n",
      " [0.57549086 0.48046223 0.98607938 0.1105526 ]\n",
      " [0.25227306 0.53662392 0.80114886 0.31865308]\n",
      " [0.38307688 0.82067985 0.87260312 0.20285428]\n",
      " [0.52347954 0.09839139 0.24497568 0.86544779]]\n",
      "[[0.05862482 0.81373419 0.60007125]\n",
      " [0.96551844 0.41129573 0.20494958]\n",
      " [0.38531236 0.55238544 0.49371244]\n",
      " [0.05480412 0.85473768 0.27852131]]\n",
      "[[0.87094821 1.43324819 0.84101922]\n",
      " [1.08089418 1.9630149  1.08524366]\n",
      " [0.88364051 1.30509802 0.96143697]\n",
      " [0.85906581 1.1409021  0.74565149]\n",
      " [1.16218136 1.30466533 0.88538567]\n",
      " [0.26750986 1.341493   0.69628349]]\n"
     ]
    }
   ],
   "execution_count": 35
  },
  {
   "cell_type": "markdown",
   "metadata": {},
   "source": [
    "### Создайте случайный двумерный массив 7x7, найти у него среднее и стандартное оклонение. Нормализуйте этот массив."
   ]
  },
  {
   "cell_type": "code",
   "metadata": {
    "ExecuteTime": {
     "end_time": "2025-10-26T15:01:26.566568Z",
     "start_time": "2025-10-26T15:01:26.561797Z"
    }
   },
   "source": [
    "# ВАШ КОД ЗДЕСЬ\n",
    "arr = np.random.rand(7, 7)\n",
    "print(arr)\n",
    "mean = np.mean(arr)\n",
    "std = np.std(arr)\n",
    "print(mean, std)\n",
    "\n",
    "#1 способ\n",
    "normalized_arr_1 = (arr - mean) / std\n",
    "print(f'normalized_arr_1: {normalized_arr_1}')\n",
    "\n",
    "#2 способ\n",
    "normalized_arr_2 = arr / np.linalg.norm(arr, axis=-1)[:, np.newaxis]\n",
    "print(f'normalized_arr_1: {normalized_arr_2}')"
   ],
   "outputs": [
    {
     "name": "stdout",
     "output_type": "stream",
     "text": [
      "[[0.11869322 0.0159681  0.95298677 0.28026232 0.06874417 0.92447901\n",
      "  0.73315721]\n",
      " [0.73049098 0.07634629 0.75799288 0.80269579 0.74985922 0.86538023\n",
      "  0.14548315]\n",
      " [0.05898913 0.61230922 0.12141437 0.68971931 0.65146527 0.40310585\n",
      "  0.75489918]\n",
      " [0.96995997 0.62895767 0.14082769 0.09611571 0.3520371  0.24347277\n",
      "  0.89849555]\n",
      " [0.65995958 0.38688144 0.07276735 0.85913644 0.32090801 0.60683745\n",
      "  0.77941333]\n",
      " [0.34079149 0.98575588 0.35838172 0.18889631 0.85150848 0.43976388\n",
      "  0.97134151]\n",
      " [0.04951542 0.1796378  0.1391508  0.02305799 0.05887616 0.0270678\n",
      "  0.61164608]]\n",
      "0.4644000619750884 0.32753762201777326\n",
      "normalized_arr_1: [[-1.05547216 -1.36910062  1.49169645 -0.56218806 -1.20797083  1.40465985\n",
      "   0.82053824]\n",
      " [ 0.81239803 -1.18476091  0.89636366  1.0328454   0.8715309   1.22422628\n",
      "  -0.97368025]\n",
      " [-1.23775377  0.45157914 -1.04716426  0.68791868  0.57112585 -0.18713641\n",
      "   0.88691833]\n",
      " [ 1.54351705  0.50240827 -0.98789377 -1.1244032  -0.3430536  -0.67450966\n",
      "   1.32533015]\n",
      " [ 0.5970597  -0.23667091 -1.19568773  1.20516347 -0.43809334  0.43487337\n",
      "   0.9617621 ]\n",
      " [-0.3773874   1.59174331 -0.32368295 -0.8411362   1.18187467 -0.07521635\n",
      "   1.54773501]\n",
      " [-1.26667782 -0.8694032  -0.99301343 -1.3474546  -1.2380987  -1.3352123\n",
      "   0.44955452]]\n",
      "normalized_arr_1: [[0.0766484  0.0103117  0.61540929 0.18098471 0.04439285 0.59699986\n",
      "  0.47345018]\n",
      " [0.41551765 0.04342727 0.43116127 0.45658916 0.42653468 0.49224531\n",
      "  0.08275368]\n",
      " [0.04144689 0.43022008 0.08530804 0.48460988 0.45773186 0.28322982\n",
      "  0.5304065 ]\n",
      " [0.63192805 0.40976536 0.09174911 0.0626193  0.22935185 0.15862229\n",
      "  0.58536904]\n",
      " [0.42535097 0.2493492  0.04689933 0.55372258 0.20682863 0.3911132\n",
      "  0.50234019]\n",
      " [0.19312296 0.55861749 0.20309115 0.10704555 0.4825409  0.24920957\n",
      "  0.55044902]\n",
      " [0.07525469 0.27301772 0.21148463 0.03504406 0.08948136 0.04113827\n",
      "  0.92959397]]\n"
     ]
    }
   ],
   "execution_count": 47
  },
  {
   "cell_type": "markdown",
   "metadata": {},
   "source": [
    "# II. Pandas"
   ]
  },
  {
   "cell_type": "markdown",
   "metadata": {},
   "source": [
    "### Импортируйте: pandas, matplotlib, seaborn"
   ]
  },
  {
   "cell_type": "code",
   "execution_count": null,
   "metadata": {},
   "outputs": [],
   "source": [
    "# ВАШ КОД ЗДЕСЬ"
   ]
  },
  {
   "cell_type": "markdown",
   "metadata": {},
   "source": [
    "### Загрузите датасет Tips из набора датасетов seaborn"
   ]
  },
  {
   "cell_type": "code",
   "execution_count": null,
   "metadata": {},
   "outputs": [],
   "source": [
    "# ВАШ КОД ЗДЕСЬ"
   ]
  },
  {
   "cell_type": "markdown",
   "metadata": {},
   "source": [
    "### Посмотрите на первые 5 строчек"
   ]
  },
  {
   "cell_type": "code",
   "execution_count": null,
   "metadata": {},
   "outputs": [],
   "source": [
    "# ВАШ КОД ЗДЕСЬ"
   ]
  },
  {
   "cell_type": "markdown",
   "metadata": {},
   "source": [
    "### Узнайте сколько всего строчек и колонок в данных"
   ]
  },
  {
   "cell_type": "code",
   "execution_count": null,
   "metadata": {},
   "outputs": [],
   "source": [
    "# ВАШ КОД ЗДЕСЬ"
   ]
  },
  {
   "cell_type": "markdown",
   "metadata": {},
   "source": [
    "### Проверьте есть ли пропуски в данных"
   ]
  },
  {
   "cell_type": "code",
   "execution_count": null,
   "metadata": {},
   "outputs": [],
   "source": [
    "# ВАШ КОД ЗДЕСЬ"
   ]
  },
  {
   "cell_type": "markdown",
   "metadata": {},
   "source": [
    "### Посмотрите на распределение числовых признаков"
   ]
  },
  {
   "cell_type": "code",
   "execution_count": null,
   "metadata": {},
   "outputs": [],
   "source": [
    "# ВАШ КОД ЗДЕСЬ"
   ]
  },
  {
   "cell_type": "markdown",
   "metadata": {},
   "source": [
    "### Найдите максимальное значение 'total_bill'"
   ]
  },
  {
   "cell_type": "code",
   "execution_count": null,
   "metadata": {},
   "outputs": [],
   "source": [
    "# ВАШ КОД ЗДЕСЬ"
   ]
  },
  {
   "cell_type": "markdown",
   "metadata": {},
   "source": [
    "### Найдите количество курящих людей"
   ]
  },
  {
   "cell_type": "code",
   "execution_count": null,
   "metadata": {},
   "outputs": [],
   "source": [
    "# ВАШ КОД ЗДЕСЬ"
   ]
  },
  {
   "cell_type": "markdown",
   "metadata": {},
   "source": [
    "### Узнайте какой средний 'total_bill' в зависимости от 'day'"
   ]
  },
  {
   "cell_type": "code",
   "execution_count": null,
   "metadata": {},
   "outputs": [],
   "source": [
    "# ВАШ КОД ЗДЕСЬ"
   ]
  },
  {
   "cell_type": "markdown",
   "metadata": {},
   "source": [
    "### Отберите строчки с 'total_bill' больше медианы и узнайте какой средний 'tip' в зависимости от 'sex'"
   ]
  },
  {
   "cell_type": "code",
   "execution_count": null,
   "metadata": {},
   "outputs": [],
   "source": [
    "# ВАШ КОД ЗДЕСЬ"
   ]
  },
  {
   "cell_type": "markdown",
   "metadata": {},
   "source": [
    "### Преобразуйте признак 'smoker' в бинарный (0-No, 1-Yes)"
   ]
  },
  {
   "cell_type": "code",
   "execution_count": null,
   "metadata": {},
   "outputs": [],
   "source": [
    "# ВАШ КОД ЗДЕСЬ"
   ]
  },
  {
   "cell_type": "markdown",
   "metadata": {},
   "source": [
    "# III. Visualization"
   ]
  },
  {
   "cell_type": "markdown",
   "metadata": {},
   "source": [
    "### Постройте гистограмму распределения признака 'total_bill'"
   ]
  },
  {
   "cell_type": "code",
   "execution_count": null,
   "metadata": {},
   "outputs": [],
   "source": [
    "# ВАШ КОД ЗДЕСЬ"
   ]
  },
  {
   "cell_type": "markdown",
   "metadata": {},
   "source": [
    "### Постройте scatterplot, представляющий взаимосвязь между признаками 'total_bill' и 'tip'"
   ]
  },
  {
   "cell_type": "code",
   "execution_count": null,
   "metadata": {},
   "outputs": [],
   "source": [
    "# ВАШ КОД ЗДЕСЬ"
   ]
  },
  {
   "cell_type": "markdown",
   "metadata": {},
   "source": [
    "### Постройте pairplot"
   ]
  },
  {
   "cell_type": "code",
   "execution_count": null,
   "metadata": {},
   "outputs": [],
   "source": [
    "# ВАШ КОД ЗДЕСЬ"
   ]
  },
  {
   "cell_type": "markdown",
   "metadata": {},
   "source": [
    "### Постройте график взаимосвязи между признаками 'total_bill' и 'day'"
   ]
  },
  {
   "cell_type": "code",
   "execution_count": null,
   "metadata": {},
   "outputs": [],
   "source": [
    "# ВАШ КОД ЗДЕСЬ"
   ]
  },
  {
   "cell_type": "markdown",
   "metadata": {},
   "source": [
    "### Постройте две гистограммы распределения признака 'tip' в зависимости от категорий 'time'"
   ]
  },
  {
   "cell_type": "code",
   "execution_count": null,
   "metadata": {},
   "outputs": [],
   "source": [
    "# ВАШ КОД ЗДЕСЬ"
   ]
  },
  {
   "cell_type": "markdown",
   "metadata": {},
   "source": [
    "### Постройте два графика scatterplot, представляющих взаимосвязь между признаками 'total_bill' и 'tip' один для Male, другой для Female и раскрасьте точки в зависимоти от признака 'smoker'"
   ]
  },
  {
   "cell_type": "code",
   "execution_count": null,
   "metadata": {},
   "outputs": [],
   "source": [
    "# ВАШ КОД ЗДЕСЬ"
   ]
  },
  {
   "cell_type": "markdown",
   "metadata": {},
   "source": [
    "## Сделайте выводы по анализу датасета и построенным графикам. По желанию можете продолжить анализ данных и также отразить это в выводах."
   ]
  },
  {
   "cell_type": "code",
   "execution_count": null,
   "metadata": {},
   "outputs": [],
   "source": [
    "# ВАШ КОД ЗДЕСЬ"
   ]
  }
 ],
 "metadata": {
  "kernelspec": {
   "display_name": "Python 3",
   "language": "python",
   "name": "python3"
  },
  "language_info": {
   "codemirror_mode": {
    "name": "ipython",
    "version": 3
   },
   "file_extension": ".py",
   "mimetype": "text/x-python",
   "name": "python",
   "nbconvert_exporter": "python",
   "pygments_lexer": "ipython3",
   "version": "3.6.6"
  },
  "toc-autonumbering": false
 },
 "nbformat": 4,
 "nbformat_minor": 2
}
