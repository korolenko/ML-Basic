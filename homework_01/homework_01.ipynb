{
 "cells": [
  {
   "cell_type": "markdown",
   "id": "8955a739",
   "metadata": {},
   "source": [
    "# Домашнее задание: Базовые типы данных\n",
    "\n"
   ]
  },
  {
   "cell_type": "markdown",
   "id": "d4e67b86",
   "metadata": {},
   "source": [
    "## Задание 1: Зеркальное отражение цифр\n",
    "\n",
    "Пользователь вводит пятизначное число. Программа должна зеркально отразить три центральные цифры. Первая и последняя остаются на местах.\n",
    "\n",
    "<br>\n",
    "\n",
    "**Примеры:**\n",
    "* `23456 -> 25436`\n",
    "* `30789 -> 38709`"
   ]
  },
  {
   "cell_type": "code",
   "id": "5a4d665d",
   "metadata": {
    "ExecuteTime": {
     "end_time": "2025-08-07T17:21:49.376840Z",
     "start_time": "2025-08-07T17:21:49.373412Z"
    }
   },
   "source": [
    "# ВАШ КОД ЗДЕСЬ\n",
    "def mirrored_numbers(in_val):\n",
    "        str_in_val = str(in_val)\n",
    "        if len(str_in_val) !=5:\n",
    "            raise Exception('Invalid value length!')\n",
    "        else:\n",
    "            return str_in_val[:1] + str_in_val[3:4] + str_in_val[2:3] + str_in_val[1:2] + str_in_val[4:]\n",
    "\n",
    "print(mirrored_numbers(23456))\n",
    "print(mirrored_numbers(30789))\n"
   ],
   "outputs": [
    {
     "name": "stdout",
     "output_type": "stream",
     "text": [
      "25436\n",
      "38709\n"
     ]
    }
   ],
   "execution_count": 2
  },
  {
   "cell_type": "markdown",
   "id": "00b9578b",
   "metadata": {},
   "source": [
    "## Задание 2: Подсчет выходных до отпуска\n",
    "\n",
    "Пользователь вводит сколько дней осталось до ближайшего отпуска. Программа должна вывести количество выходных дней до отпуска, если учесть, что выходные это суббота и воскресенье, сегодня понедельник и праздники мы не учитываем.  \n",
    "\n",
    "<br>\n",
    "\n",
    "**Примеры:**\n",
    "* `4  -> 0`\n",
    "* `6  -> 1`\n",
    "* `14 -> 4`"
   ]
  },
  {
   "cell_type": "code",
   "id": "07154103",
   "metadata": {
    "ExecuteTime": {
     "end_time": "2025-08-07T17:57:13.487798Z",
     "start_time": "2025-08-07T17:57:13.484289Z"
    }
   },
   "source": [
    "# ВАШ КОД ЗДЕСЬ\n",
    "def count_holidays(days):\n",
    "    return (days // 7) * 2 + 1 if days % 7 == 6 else (days // 7) * 2\n",
    "\n",
    "print(count_holidays(4))\n",
    "print(count_holidays(6))\n",
    "print(count_holidays(14))"
   ],
   "outputs": [
    {
     "name": "stdout",
     "output_type": "stream",
     "text": [
      "0\n",
      "1\n",
      "4\n",
      "5\n"
     ]
    }
   ],
   "execution_count": 24
  },
  {
   "cell_type": "markdown",
   "id": "cdde282c",
   "metadata": {},
   "source": [
    "## Задание 3: Плитка шоколада\n",
    "\n",
    "Пользователь вводит длину и ширину плитки шоколада, а также размер куска, который хочет отломить. Программа должна вычислить - можно ли совершить подобный разлом или нет, если учесть, что ломать можно только по прямой.\n",
    "\n",
    "<br>\n",
    "\n",
    "**Примеры:**\n",
    "* `3, 4, 6  -> True`\n",
    "* `5, 7, 8  -> False`\n",
    "* `4, 5, 12 -> True`"
   ]
  },
  {
   "cell_type": "code",
   "id": "70f3324c",
   "metadata": {
    "ExecuteTime": {
     "end_time": "2025-08-07T17:24:10.739479Z",
     "start_time": "2025-08-07T17:24:10.736671Z"
    }
   },
   "source": [
    "# ВАШ КОД ЗДЕСЬ\n",
    "def divide_chocolate(len,wid,size):\n",
    "    if size % len == 0 or size % wid == 0:\n",
    "        return True\n",
    "    else:\n",
    "        return False\n",
    "\n",
    "print(divide_chocolate(3,4,6))\n",
    "print(divide_chocolate(5,7,8))\n",
    "print(divide_chocolate(4,5,12))"
   ],
   "outputs": [
    {
     "name": "stdout",
     "output_type": "stream",
     "text": [
      "True\n",
      "False\n",
      "True\n"
     ]
    }
   ],
   "execution_count": 3
  },
  {
   "cell_type": "markdown",
   "id": "6470efc1",
   "metadata": {},
   "source": [
    "## Задание 4: Римские числа\n",
    "\n",
    "Пользователь вводит целое положительное число, программа должна вернуть строку в виде римского числа.\n",
    "\n",
    "<br>\n",
    "\n",
    "**Примеры:**\n",
    "* `3   -> III`\n",
    "* `15  -> XV`\n",
    "* `234 -> CCXXXIV`"
   ]
  },
  {
   "cell_type": "code",
   "id": "8686127c",
   "metadata": {
    "ExecuteTime": {
     "end_time": "2025-08-07T17:31:01.348456Z",
     "start_time": "2025-08-07T17:31:01.344720Z"
    }
   },
   "source": [
    "# ВАШ КОД ЗДЕСЬ\n",
    "def arabic_to_roman(number):\n",
    "    roman_numbers= { 'M': 1000, 'CM': 900, 'D': 500, 'CD': 400,\n",
    "                     'C': 100,'XC': 90, 'L': 50, 'XL': 40, 'X': 10,\n",
    "                     'IX': 9, 'V': 5, 'IV': 4, 'I': 1\n",
    "    }\n",
    "    roman = ''\n",
    "    for letter, value in roman_numbers.items():\n",
    "        while number >= value:\n",
    "            roman += letter\n",
    "            number -= value\n",
    "    return roman\n",
    "\n",
    "print(arabic_to_roman(3))\n",
    "print(arabic_to_roman(15))\n",
    "print(arabic_to_roman(234))"
   ],
   "outputs": [
    {
     "name": "stdout",
     "output_type": "stream",
     "text": [
      "III\n",
      "XV\n",
      "CCXXXIV\n"
     ]
    }
   ],
   "execution_count": 6
  },
  {
   "cell_type": "markdown",
   "id": "ca6a4c0a",
   "metadata": {},
   "source": [
    "## Задание 5: Проверка на вещественное число\n",
    "\n",
    "Пользователь вводит данные, проверить - являются ли они положительным вещественным числом. Не использовать встроенные функции для проверки, только методы данных и конструкцию IF. (Дополнительное задание, по желанию - проверка на отрицательные вещественные числа)\n",
    "\n",
    "<br>\n",
    "\n",
    "**Примеры:**\n",
    "* `5.6  -> True`\n",
    "* `.78  -> True`\n",
    "* `.67. -> False`\n",
    "* `5    -> True`"
   ]
  },
  {
   "cell_type": "code",
   "id": "74e39179",
   "metadata": {
    "ExecuteTime": {
     "end_time": "2025-08-07T17:34:46.170494Z",
     "start_time": "2025-08-07T17:34:46.166494Z"
    }
   },
   "source": [
    "# ВАШ КОД ЗДЕСЬ\n",
    "import re\n",
    "def check_number(number):\n",
    "    trimmed = number.strip()\n",
    "    check_regexp = '[+-]?([0-9]*[.])?[0-9]+'\n",
    "    res = re.match(check_regexp, trimmed)\n",
    "    if res.start() == 0 and res.end() == len(trimmed):\n",
    "        return True\n",
    "    else:\n",
    "        return False\n",
    "\n",
    "print(check_number('5.6'))\n",
    "print(check_number('.78'))\n",
    "print(check_number('.67.'))\n",
    "print(check_number('5'))"
   ],
   "outputs": [
    {
     "name": "stdout",
     "output_type": "stream",
     "text": [
      "True\n",
      "True\n",
      "False\n",
      "True\n"
     ]
    }
   ],
   "execution_count": 8
  }
 ],
 "metadata": {
  "kernelspec": {
   "display_name": ".venv (3.11.12)",
   "language": "python",
   "name": "python3"
  },
  "language_info": {
   "name": "python",
   "version": "3.11.12"
  }
 },
 "nbformat": 4,
 "nbformat_minor": 5
}
