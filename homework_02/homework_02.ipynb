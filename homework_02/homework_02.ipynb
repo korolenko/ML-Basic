{
 "cells": [
  {
   "cell_type": "markdown",
   "id": "a2c501e6",
   "metadata": {},
   "source": [
    "# Домашнее задание: Управляющие конструкции"
   ]
  },
  {
   "cell_type": "markdown",
   "id": "3e4cac4a",
   "metadata": {},
   "source": [
    "## Задание 1: Получение однозначного числа\n",
    "\n",
    "Пользователь вводит целое число, программа складывает все цифры числа, с полученным числом — то же самое, и так до тех пор, пока не получится однозначное число.\n",
    "\n",
    "<br>\n",
    "\n",
    "**Примеры:**\n",
    "* `545   -> 5`\n",
    "* `12345 -> 6`"
   ]
  },
  {
   "cell_type": "code",
   "id": "344e919f",
   "metadata": {
    "ExecuteTime": {
     "end_time": "2025-08-15T08:56:18.116237Z",
     "start_time": "2025-08-15T08:56:18.111959Z"
    }
   },
   "source": [
    "# ВАШ КОД ЗДЕСЬ\n",
    "def get_single_digit_sum(number):\n",
    "    sum = 0\n",
    "    casted = str(abs(number))\n",
    "    if casted.isdigit():\n",
    "        for i in casted:\n",
    "            sum += int(i)\n",
    "    else:\n",
    "        raise TypeError('Not a number')\n",
    "    if sum > 9:\n",
    "        return get_single_digit_sum(sum)\n",
    "    else:\n",
    "        return sum\n",
    "\n",
    "assert get_single_digit_sum(545) == 5\n",
    "assert get_single_digit_sum(12345) == 6"
   ],
   "outputs": [],
   "execution_count": 5
  },
  {
   "cell_type": "markdown",
   "id": "45527a4a",
   "metadata": {},
   "source": [
    "## Задание 2: Кинотеатр\n",
    "\n",
    "Дан список списков, каждый вложенный список состоит из 1 и 0, количество вложенных списков — количество рядов. Пользователь вводит, сколько билетов ему требуется. Программа должна найти ряд, где можно приобрести нужное количество билетов (места должны быть рядом). Если таких рядов несколько, то ближайший к экрану (ближайшим считается нулевой ряд). Если таких мест нет, то вывести False.\n",
    "\n",
    "<br>\n",
    "\n",
    "**Примеры:**\n",
    "* `[[0,1,1,0], [1,0,0,0], [0,1,0,0]], 2 -> 1`\n",
    "* `[[0,1,1,0], [1,0,1,0], [1,1,0,1]], 2 -> False`"
   ]
  },
  {
   "cell_type": "code",
   "id": "3a29082d",
   "metadata": {
    "ExecuteTime": {
     "end_time": "2025-08-15T13:54:40.184020Z",
     "start_time": "2025-08-15T13:54:40.180681Z"
    }
   },
   "source": [
    "def find_free_seats(rows, needed_seats):\n",
    "    i = 0\n",
    "    free_seats = 0\n",
    "    for row in rows:\n",
    "        free_seats = 0\n",
    "        for seat in row:\n",
    "            if not seat:\n",
    "                free_seats += 1\n",
    "                if free_seats == needed_seats:\n",
    "                    break\n",
    "            else:\n",
    "                free_seats = 0\n",
    "        if free_seats == needed_seats:\n",
    "            break\n",
    "        i +=1\n",
    "    if free_seats == needed_seats:\n",
    "        return i\n",
    "    else:\n",
    "        return False\n",
    "\n",
    "assert find_free_seats([[0,1,1,0], [1,0,0,0], [0,1,0,0]], 2) == 1\n",
    "assert find_free_seats([[0,1,1,0], [1,0,1,0], [1,1,0,1]], 2) == False"
   ],
   "outputs": [],
   "execution_count": 12
  },
  {
   "cell_type": "markdown",
   "id": "7b7f098c",
   "metadata": {},
   "source": [
    "## Задание 3: Алгоритм RLE\n",
    "\n",
    "Необходимо написать упрощенную версию алгоритма RLE. \n",
    "Алгоритм RLE объединяет подряд идущие символы в коэффициент и символ.\n",
    "\n",
    "<br>\n",
    "\n",
    "**Примеры:**\n",
    "* `asssdddsssddd -> 1a3s3d3s3d`\n",
    "* `aaabbbbccccc  -> 3a4b5c`\n",
    "* `abcba         -> 1a1b1c1b1a`"
   ]
  },
  {
   "cell_type": "code",
   "id": "e0d30ec2",
   "metadata": {
    "ExecuteTime": {
     "end_time": "2025-08-15T14:00:02.864772Z",
     "start_time": "2025-08-15T14:00:02.860267Z"
    }
   },
   "source": [
    "# ВАШ КОД ЗДЕСЬ\n",
    "def rle_algorithm(string):\n",
    "    res = ''\n",
    "    prev_val = ''\n",
    "    counter = 1\n",
    "    if string.isalpha():\n",
    "        i = 0\n",
    "        while i < len(string):\n",
    "            if prev_val == '':\n",
    "                pass\n",
    "            elif prev_val == string[i]:\n",
    "                counter += 1\n",
    "            elif prev_val != string[i]:\n",
    "                res += str(counter) + prev_val\n",
    "                counter = 1\n",
    "            if i == len(string) - 1:\n",
    "                res += str(counter) + string[i]\n",
    "                break\n",
    "            prev_val = string[i]\n",
    "            i +=1\n",
    "    else:\n",
    "        raise TypeError('Not a string')\n",
    "    return res\n",
    "\n",
    "assert rle_algorithm('asssdddsssddd') == '1a3s3d3s3d'\n",
    "assert rle_algorithm('aaabbbbccccc') == '3a4b5c'\n",
    "assert rle_algorithm('abcba') == '1a1b1c1b1a'"
   ],
   "outputs": [],
   "execution_count": 14
  },
  {
   "cell_type": "markdown",
   "id": "f24d5e58",
   "metadata": {},
   "source": [
    "## Задание 4: Шифр Цезаря\n",
    "\n",
    "Реализуйте программу для шифрования текста с помощью шифра Цезаря.  \n",
    "Шифр Цезаря — это метод шифрования, при котором каждая буква в тексте заменяется буквой, стоящей на фиксированное число позиций дальше в алфавите.\n",
    "\n",
    "### Требования\n",
    "1. Программа должна принимать на вход:\n",
    "   - Строку текста для шифрования\n",
    "   - Ключ шифра (число от 0 до 25)\n",
    "\n",
    "2. Правила шифрования:\n",
    "   - Шифруются только латинские буквы (a-z, A-Z)\n",
    "   - Сохраняется регистр букв (заглавные остаются заглавными)\n",
    "   - Пробелы, цифры и знаки препинания остаются без изменений\n",
    "   - Сдвиг циклический (после 'z' идет 'a', после 'Z' идет 'A')\n",
    "\n",
    "### Примеры\n",
    "\n",
    "* `\"Hello World\", 3      -> \"Khoor Zruog\"`\n",
    "* `\"Python is great!\", 5 -> \"Udymts nx lwjfy!\"`\n",
    "* `\"XYZ abc\", 3          -> \"ABC def\"`\n",
    "* `\"Test 123\", 1         -> \"Uftu 123\"`\n",
    "\n",
    "### Алгоритм\n",
    "* Для каждого символа в строке:\n",
    "   - Если это латинская буква, найти её позицию в алфавите\n",
    "   - Добавить к позиции значение ключа\n",
    "   - Если результат больше 25, использовать остаток от деления на 26\n",
    "   - Преобразовать обратно в букву, сохранив регистр\n",
    "   - Если это не буква, оставить символ без изменений\n"
   ]
  },
  {
   "cell_type": "code",
   "id": "6a075d20",
   "metadata": {
    "ExecuteTime": {
     "end_time": "2025-08-15T14:08:37.537599Z",
     "start_time": "2025-08-15T14:08:37.533600Z"
    }
   },
   "source": [
    "# ВАШ КОД ЗДЕСЬ\n",
    "def caesar_cipher(input, key):\n",
    "    if not(isinstance(input, str)):\n",
    "        raise TypeError('Not a string')\n",
    "    if key < 0 or key > 30:\n",
    "        raise ValueError('Key must be between 0 and 30')\n",
    "    res = ''\n",
    "    for symbol in input:\n",
    "        if symbol.isalpha():\n",
    "            position = ord(symbol.lower()) - ord('a')\n",
    "            shift = key + position\n",
    "            new_position = shift if shift < 26 else shift % 26\n",
    "            new_value = chr(new_position + ord('a'))\n",
    "            res += new_value.upper() if symbol.isupper() else new_value\n",
    "        else:\n",
    "            res += symbol\n",
    "    return res\n",
    "\n",
    "assert caesar_cipher('Hello World', 3) == 'Khoor Zruog'\n",
    "assert caesar_cipher('Python is great!', 5) == 'Udymts nx lwjfy!'\n",
    "assert caesar_cipher('XYZ abc', 3) == 'ABC def'\n",
    "assert caesar_cipher('Test 123', 1) == 'Uftu 123'\n"
   ],
   "outputs": [],
   "execution_count": 16
  },
  {
   "cell_type": "markdown",
   "id": "c88bf52c",
   "metadata": {},
   "source": [
    "## Задание 5: Табель успеваемости\n",
    "\n",
    "Пользователь в бесконечном цикле (пока не будет введена пустая строка) вводит строки вида: 'название предмета' 'фамилия ученика' 'оценка'. После окончания ввода программа выводит в консоль название предмета, далее список учеников и все их оценки в виде таблицы.\n",
    "\n",
    "<br>\n",
    "\n",
    "**Примеры:**\n",
    "\n",
    "<br>\n",
    "\n",
    "*Ввод:*\n",
    "```python\n",
    "Математика Иванов  5\n",
    "Математика Иванов  4\n",
    "Литература Иванов  3\n",
    "Математика Петров  5\n",
    "Литература Сидоров 3\n",
    "Литература Петров  5\n",
    "Литература Иванов  4\n",
    "Математика Сидоров 3\n",
    "Математика Петров  5\n",
    "```\n",
    "\n",
    "<br>\n",
    "\n",
    "*Результат:*\n",
    "```python\n",
    "Математика # вводим название предмета\n",
    "\n",
    "# выводим список учеников и их оценки\n",
    "Иванов  5 4\n",
    "Петров  5 5\n",
    "Сидоров 3\n",
    "```\n",
    "\n",
    "```python\n",
    "Литература # вводим название предмета\n",
    "\n",
    "# выводим список учеников и их оценки\n",
    "Иванов  3 4\n",
    "Сидоров 3\n",
    "Петров  5\n",
    "```"
   ]
  },
  {
   "cell_type": "code",
   "id": "196f6ff4",
   "metadata": {
    "ExecuteTime": {
     "end_time": "2025-08-15T14:28:14.870940Z",
     "start_time": "2025-08-15T14:27:53.079614Z"
    }
   },
   "source": [
    "# ВАШ КОД ЗДЕСЬ\n",
    "def repord_card():\n",
    "    #раскомментировать для ручного ввода\n",
    "    '''\n",
    "    input_list = []\n",
    "    while True:\n",
    "        personal_info = input(\"Enter the subject name, students's last name, and grade separated by spaces or press enter to complete input: \")\n",
    "        if personal_info == '':\n",
    "            print('Input completed')\n",
    "            break\n",
    "        elif len(personal_info.split()) != 3:\n",
    "            print(\"Invalid input. Please enter the subject name, students's last name, and grade separated by spaces\")\n",
    "            continue\n",
    "        else:\n",
    "            print(f'Entered -> {personal_info}')\n",
    "            input_list.append(personal_info)\n",
    "    '''\n",
    "    #закомментировать input_list для ручного ввода\n",
    "    input_list = [\n",
    "        \"Математика Иванов  5\",\n",
    "        \"Математика Иванов  4\",\n",
    "        \"Литература Иванов  3\",\n",
    "        \"Математика Петров  5\",\n",
    "        \"Литература Сидоров 3\",\n",
    "        \"Литература Петров  5\",\n",
    "        \"Литература Иванов  4\",\n",
    "        \"Математика Сидоров 3\",\n",
    "        \"Математика Петров  5\"\n",
    "    ]\n",
    "    subjects = {}\n",
    "    for i in input_list:\n",
    "        splitted = i.split()\n",
    "        subject = splitted[0]\n",
    "        last_name = splitted[1]\n",
    "        grade = splitted[2]\n",
    "        if subject not in subjects:\n",
    "            grades = [grade]\n",
    "            last_names = {last_name:grades}\n",
    "            subjects[subject] = last_names\n",
    "        else:\n",
    "            last_names = subjects[subject]\n",
    "            if last_name in last_names:\n",
    "                last_names[last_name].append(grade)\n",
    "            else:\n",
    "                last_names[last_name] = [grade]\n",
    "\n",
    "    #из условия задачи не понятно какой вариант вывода требуется, поэтому сделал 2\n",
    "    #вариант 1\n",
    "    '''\n",
    "    for subject in subjects:\n",
    "        print(subject)\n",
    "        for last_name in subjects[subject]:\n",
    "            print(f'{last_name}: {' '.join(subjects[subject][last_name])}')\n",
    "    '''\n",
    "    #вариант 2\n",
    "    while True:\n",
    "        subject = input('Enter the subject name or press enter to complete input: ')\n",
    "        if subject == '':\n",
    "           print('Exit')\n",
    "           break\n",
    "        elif subject in subjects:\n",
    "            print(subject)\n",
    "            for last_name in subjects[subject]:\n",
    "                print(f'{last_name}: {' '.join(subjects[subject][last_name])}')\n",
    "        else:\n",
    "            print('Subject not found. Please try again.')\n",
    "            continue\n",
    "\n",
    "\n",
    "\n",
    "\n",
    "repord_card()"
   ],
   "outputs": [
    {
     "name": "stdout",
     "output_type": "stream",
     "text": [
      "Subject not found. Please try again.\n",
      "Subject not found. Please try again.\n",
      "Литература\n",
      "Иванов: 3 4\n",
      "Сидоров: 3\n",
      "Петров: 5\n",
      "Математика\n",
      "Иванов: 5 4\n",
      "Петров: 5 5\n",
      "Сидоров: 3\n",
      "Exit\n"
     ]
    }
   ],
   "execution_count": 23
  }
 ],
 "metadata": {
  "kernelspec": {
   "display_name": ".venv (3.11.12)",
   "language": "python",
   "name": "python3"
  },
  "language_info": {
   "codemirror_mode": {
    "name": "ipython",
    "version": 3
   },
   "file_extension": ".py",
   "mimetype": "text/x-python",
   "name": "python",
   "nbconvert_exporter": "python",
   "pygments_lexer": "ipython3",
   "version": "3.11.12"
  }
 },
 "nbformat": 4,
 "nbformat_minor": 5
}
