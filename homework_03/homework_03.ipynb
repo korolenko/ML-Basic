{
 "cells": [
  {
   "cell_type": "markdown",
   "id": "e2450ffa",
   "metadata": {},
   "source": [
    "# Домашнее задание: Функции"
   ]
  },
  {
   "cell_type": "markdown",
   "id": "8d062500",
   "metadata": {},
   "source": [
    "## Задание 1: Конвертер регистров\n",
    "\n",
    "Написать функцию, которая будет переводить snake_case в PascalCase и наоборот. \n",
    "\n",
    "Функция должна сама определять - какой формат ей передали. Можно добавить ключевой аргумент, который будет принудительно возвращать один из форматов.\n",
    "\n",
    "<br>\n",
    "\n",
    "**Примеры:**\n",
    "* `otus_course     -> OtusCourse`\n",
    "* `PythonIsTheBest -> python_is_the_best`\n",
    "\n"
   ]
  },
  {
   "cell_type": "code",
   "id": "ec0075f5",
   "metadata": {
    "ExecuteTime": {
     "end_time": "2025-08-22T13:47:56.872843Z",
     "start_time": "2025-08-22T13:47:56.867825Z"
    }
   },
   "source": [
    "from typing import Any\n",
    "\n",
    "\n",
    "# ВАШ КОД ЗДЕСЬ\n",
    "def convert_case(phrase, case_to_convert=None) -> Any:\n",
    "    current_case = define_case(phrase)\n",
    "    if case_to_convert is None:\n",
    "        if current_case.upper() == 'SNAKE_CASE':\n",
    "            return convert_to_pascal_case(phrase)\n",
    "        elif current_case.upper() == 'PASCAL_CASE':\n",
    "            return convert_to_snake_case(phrase)\n",
    "        else:\n",
    "            raise ValueError('case_to_convert must be SNAKE_CASE or PASCAL_CASE')\n",
    "    if case_to_convert is not None:\n",
    "        if case_to_convert.upper() == 'SNAKE_CASE' and current_case.upper() == 'SNAKE_CASE':\n",
    "            return phrase\n",
    "        elif case_to_convert.upper() == 'SNAKE_CASE' and current_case.upper() == 'PASCAL_CASE':\n",
    "            return convert_to_snake_case(phrase)\n",
    "        if case_to_convert.upper() == 'PASCAL_CASE' and current_case.upper() == 'PASCAL_CASE':\n",
    "            return phrase\n",
    "        elif case_to_convert.upper() == 'PASCAL_CASE' and current_case.upper() == 'SNAKE_CASE':\n",
    "            return convert_to_pascal_case(phrase)\n",
    "\n",
    "def convert_to_pascal_case(phrase):\n",
    "    phrase = phrase.replace('_',' ').title().replace(' ','')\n",
    "    return phrase\n",
    "\n",
    "def convert_to_snake_case(phrase):\n",
    "    camel_case = phrase[0].lower()\n",
    "    for c in phrase[1:]:\n",
    "        camel_case += '_{}'.format(c.lower()) if c.isupper() else c\n",
    "    return camel_case\n",
    "\n",
    "def define_case(phrase:str):\n",
    "    has_uppercase = False\n",
    "    for i in phrase:\n",
    "        if i.istitle():\n",
    "            has_uppercase = True\n",
    "            break\n",
    "    if phrase.find('_') == -1 and has_uppercase:\n",
    "        return 'PASCAL_CASE'\n",
    "    elif phrase.find('_') != -1 and not has_uppercase:\n",
    "        return 'SNAKE_CASE'\n",
    "    else:\n",
    "        raise ValueError('Unable to define case')\n",
    "\n",
    "assert convert_case('otus_course') == 'OtusCourse'\n",
    "assert convert_case('PythonIsTheBest') == 'python_is_the_best'"
   ],
   "outputs": [],
   "execution_count": 3
  },
  {
   "cell_type": "markdown",
   "id": "b8253fb9",
   "metadata": {},
   "source": [
    "## Задание 2: Проверка валидности даты\n",
    "\n",
    "Написать функцию проверяющую валидность введенной даты.\n",
    "\n",
    "<br>\n",
    "\n",
    "**Примеры:**\n",
    "* `29.02.2000 -> True`\n",
    "* `29.02.2001 -> False`\n",
    "* `31.04.1962 -> False`\n",
    "\n"
   ]
  },
  {
   "cell_type": "code",
   "id": "e7f4e9c8",
   "metadata": {
    "ExecuteTime": {
     "end_time": "2025-08-22T13:52:35.192405Z",
     "start_time": "2025-08-22T13:52:35.188004Z"
    }
   },
   "source": [
    "# ВАШ КОД ЗДЕСЬ\n",
    "import datetime\n",
    "\n",
    "def is_valid_date(date) -> bool:\n",
    "    if isinstance(date, str):\n",
    "        correct_date = date.split('.')\n",
    "        day = int(correct_date[0])\n",
    "        month = int(correct_date[1])\n",
    "        year = int(correct_date[2])\n",
    "        try:\n",
    "            datetime.datetime(year,month,day)\n",
    "            return True\n",
    "        except ValueError:\n",
    "            return False\n",
    "    else:\n",
    "        raise TypeError('Not a valid input')\n",
    "\n",
    "assert is_valid_date('29.02.2000') == True\n",
    "assert is_valid_date('29.02.2001') == False\n",
    "assert is_valid_date('31.04.1962') == False"
   ],
   "outputs": [
    {
     "name": "stdout",
     "output_type": "stream",
     "text": [
      "True\n",
      "False\n",
      "False\n"
     ]
    }
   ],
   "execution_count": 6
  },
  {
   "cell_type": "markdown",
   "id": "2d77053e",
   "metadata": {},
   "source": [
    "## Задание 3: Проверка на простое число\n",
    "\n",
    "Функция проверки на простое число. Простые числа – это такие числа, которые делятся на себя и на единицу.\n",
    "\n",
    "<br>\n",
    "\n",
    "**Примеры:**\n",
    "* `17 -> True`\n",
    "* `20 -> False`\n",
    "* `23 -> True`"
   ]
  },
  {
   "cell_type": "code",
   "id": "c20728f6",
   "metadata": {
    "ExecuteTime": {
     "end_time": "2025-08-22T14:06:45.066649Z",
     "start_time": "2025-08-22T14:06:45.062883Z"
    }
   },
   "source": [
    "# ВАШ КОД ЗДЕСЬ\n",
    "def is_simple_number(number: int) -> bool:\n",
    "    is_simple = True\n",
    "    if isinstance(number, int):\n",
    "        abs_number = abs(number)\n",
    "        counter = 2\n",
    "        while counter < abs_number:\n",
    "            if abs_number % counter == 0:\n",
    "                is_simple = False\n",
    "                break\n",
    "            counter += 1\n",
    "        return is_simple\n",
    "    else:\n",
    "        raise TypeError('Not a number')\n",
    "\n",
    "assert is_simple_number(17) == True\n",
    "assert is_simple_number(20) == False\n",
    "assert is_simple_number(23) == True"
   ],
   "outputs": [],
   "execution_count": 16
  },
  {
   "cell_type": "markdown",
   "id": "29703efe",
   "metadata": {},
   "source": [
    "## Задание 4: Учет пользователей\n",
    "\n",
    "Пользователь в бесконечном цикле вводит данные пользователей: имя, затем фамилию, возраст и ID. Ввод продолжается до тех пор, пока не будет введено пустое поле. \n",
    "\n",
    "Пользователи заносятся в словарь, где ключ это ID пользователя, а остальные данные записываются в виде кортежа. \n",
    "\n",
    "**Программа должна проверять:**\n",
    "* имя и фамилия состоят только из символов и начинаются с большой буквы - если не с большой, то заменяет букву на большую;\n",
    "* возраст должен быть числом от 18 до 60;\n",
    "* ID - целое число, дополненное до 8 знаков незначащими нулями, ID должен быть уникальным.\n",
    "\n",
    "**Дополнительно:** написать функцию, которая будет выводить полученный словарь в виде таблицы."
   ]
  },
  {
   "cell_type": "code",
   "id": "54d1f971",
   "metadata": {
    "ExecuteTime": {
     "end_time": "2025-08-22T14:19:17.954427Z",
     "start_time": "2025-08-22T14:18:57.840417Z"
    }
   },
   "source": [
    "# ВАШ КОД ЗДЕСЬ\n",
    "def user_accounting():\n",
    "    #name = input_string_val('name')\n",
    "    #second_name = input_string_val('second_name')\n",
    "    input_age()\n",
    "    #id = input('Enter id or press enter to complete input: ')\n",
    "\n",
    "def input_age():\n",
    "    age = None\n",
    "    while True:\n",
    "        try:\n",
    "            age = int(input('Please type age, it must be between 16 and 60 or press enter to complete input: '))\n",
    "            if 16 <= age <= 60:\n",
    "                break\n",
    "            else:\n",
    "                print(f'You entered an invalid value')\n",
    "                continue\n",
    "        except ValueError:\n",
    "            print(f'You entered an invalid value')\n",
    "            continue\n",
    "    print(f'Entered age: {age}')\n",
    "    return age\n",
    "\n",
    "def input_string_val(value_name):\n",
    "    while True:\n",
    "        value = input(f'Please type string {value_name} or press enter to complete input: ')\n",
    "        if not value.isalpha():\n",
    "            print('You entered an invalid value')\n",
    "            continue\n",
    "        else:\n",
    "           break\n",
    "    final_value = value if value.istitle() else value.title()\n",
    "    print(f'Entered {value_name}: {final_value}')\n",
    "    return final_value\n",
    "\n",
    "user_accounting()"
   ],
   "outputs": [
    {
     "name": "stdout",
     "output_type": "stream",
     "text": [
      "Entered name: 23\n"
     ]
    },
    {
     "ename": "KeyboardInterrupt",
     "evalue": "Interrupted by user",
     "output_type": "error",
     "traceback": [
      "\u001B[31m---------------------------------------------------------------------------\u001B[39m",
      "\u001B[31mKeyboardInterrupt\u001B[39m                         Traceback (most recent call last)",
      "\u001B[36mCell\u001B[39m\u001B[36m \u001B[39m\u001B[32mIn[17]\u001B[39m\u001B[32m, line 15\u001B[39m\n\u001B[32m     12\u001B[39m             \u001B[38;5;28mprint\u001B[39m(\u001B[33mf\u001B[39m\u001B[33m'\u001B[39m\u001B[33mEntered second_name: \u001B[39m\u001B[38;5;132;01m{\u001B[39;00msecond_name\u001B[38;5;132;01m}\u001B[39;00m\u001B[33m'\u001B[39m)\n\u001B[32m     13\u001B[39m             \u001B[38;5;28mid\u001B[39m = \u001B[38;5;28minput\u001B[39m(\u001B[33m'\u001B[39m\u001B[33mEnter id or press enter to complete input: \u001B[39m\u001B[33m'\u001B[39m)\n\u001B[32m---> \u001B[39m\u001B[32m15\u001B[39m \u001B[43muser_accounting\u001B[49m\u001B[43m(\u001B[49m\u001B[43m)\u001B[49m     \n",
      "\u001B[36mCell\u001B[39m\u001B[36m \u001B[39m\u001B[32mIn[17]\u001B[39m\u001B[32m, line 11\u001B[39m, in \u001B[36muser_accounting\u001B[39m\u001B[34m()\u001B[39m\n\u001B[32m      9\u001B[39m     \u001B[38;5;28;01mcontinue\u001B[39;00m\n\u001B[32m     10\u001B[39m \u001B[38;5;28mprint\u001B[39m(\u001B[33mf\u001B[39m\u001B[33m'\u001B[39m\u001B[33mEntered name: \u001B[39m\u001B[38;5;132;01m{\u001B[39;00mname\u001B[38;5;132;01m}\u001B[39;00m\u001B[33m'\u001B[39m)\n\u001B[32m---> \u001B[39m\u001B[32m11\u001B[39m second_name = \u001B[38;5;28;43minput\u001B[39;49m\u001B[43m(\u001B[49m\u001B[33;43m'\u001B[39;49m\u001B[33;43mEnter second name or press enter to complete input: \u001B[39;49m\u001B[33;43m'\u001B[39;49m\u001B[43m)\u001B[49m\n\u001B[32m     12\u001B[39m \u001B[38;5;28mprint\u001B[39m(\u001B[33mf\u001B[39m\u001B[33m'\u001B[39m\u001B[33mEntered second_name: \u001B[39m\u001B[38;5;132;01m{\u001B[39;00msecond_name\u001B[38;5;132;01m}\u001B[39;00m\u001B[33m'\u001B[39m)\n\u001B[32m     13\u001B[39m \u001B[38;5;28mid\u001B[39m = \u001B[38;5;28minput\u001B[39m(\u001B[33m'\u001B[39m\u001B[33mEnter id or press enter to complete input: \u001B[39m\u001B[33m'\u001B[39m)\n",
      "\u001B[36mFile \u001B[39m\u001B[32m~\\AppData\\Local\\Programs\\Python\\Python312\\Lib\\site-packages\\ipykernel\\kernelbase.py:1275\u001B[39m, in \u001B[36mKernel.raw_input\u001B[39m\u001B[34m(self, prompt)\u001B[39m\n\u001B[32m   1273\u001B[39m     msg = \u001B[33m\"\u001B[39m\u001B[33mraw_input was called, but this frontend does not support input requests.\u001B[39m\u001B[33m\"\u001B[39m\n\u001B[32m   1274\u001B[39m     \u001B[38;5;28;01mraise\u001B[39;00m StdinNotImplementedError(msg)\n\u001B[32m-> \u001B[39m\u001B[32m1275\u001B[39m \u001B[38;5;28;01mreturn\u001B[39;00m \u001B[38;5;28;43mself\u001B[39;49m\u001B[43m.\u001B[49m\u001B[43m_input_request\u001B[49m\u001B[43m(\u001B[49m\n\u001B[32m   1276\u001B[39m \u001B[43m    \u001B[49m\u001B[38;5;28;43mstr\u001B[39;49m\u001B[43m(\u001B[49m\u001B[43mprompt\u001B[49m\u001B[43m)\u001B[49m\u001B[43m,\u001B[49m\n\u001B[32m   1277\u001B[39m \u001B[43m    \u001B[49m\u001B[38;5;28;43mself\u001B[39;49m\u001B[43m.\u001B[49m\u001B[43m_parent_ident\u001B[49m\u001B[43m[\u001B[49m\u001B[33;43m\"\u001B[39;49m\u001B[33;43mshell\u001B[39;49m\u001B[33;43m\"\u001B[39;49m\u001B[43m]\u001B[49m\u001B[43m,\u001B[49m\n\u001B[32m   1278\u001B[39m \u001B[43m    \u001B[49m\u001B[38;5;28;43mself\u001B[39;49m\u001B[43m.\u001B[49m\u001B[43mget_parent\u001B[49m\u001B[43m(\u001B[49m\u001B[33;43m\"\u001B[39;49m\u001B[33;43mshell\u001B[39;49m\u001B[33;43m\"\u001B[39;49m\u001B[43m)\u001B[49m\u001B[43m,\u001B[49m\n\u001B[32m   1279\u001B[39m \u001B[43m    \u001B[49m\u001B[43mpassword\u001B[49m\u001B[43m=\u001B[49m\u001B[38;5;28;43;01mFalse\u001B[39;49;00m\u001B[43m,\u001B[49m\n\u001B[32m   1280\u001B[39m \u001B[43m\u001B[49m\u001B[43m)\u001B[49m\n",
      "\u001B[36mFile \u001B[39m\u001B[32m~\\AppData\\Local\\Programs\\Python\\Python312\\Lib\\site-packages\\ipykernel\\kernelbase.py:1320\u001B[39m, in \u001B[36mKernel._input_request\u001B[39m\u001B[34m(self, prompt, ident, parent, password)\u001B[39m\n\u001B[32m   1317\u001B[39m \u001B[38;5;28;01mexcept\u001B[39;00m \u001B[38;5;167;01mKeyboardInterrupt\u001B[39;00m:\n\u001B[32m   1318\u001B[39m     \u001B[38;5;66;03m# re-raise KeyboardInterrupt, to truncate traceback\u001B[39;00m\n\u001B[32m   1319\u001B[39m     msg = \u001B[33m\"\u001B[39m\u001B[33mInterrupted by user\u001B[39m\u001B[33m\"\u001B[39m\n\u001B[32m-> \u001B[39m\u001B[32m1320\u001B[39m     \u001B[38;5;28;01mraise\u001B[39;00m \u001B[38;5;167;01mKeyboardInterrupt\u001B[39;00m(msg) \u001B[38;5;28;01mfrom\u001B[39;00m\u001B[38;5;250m \u001B[39m\u001B[38;5;28;01mNone\u001B[39;00m\n\u001B[32m   1321\u001B[39m \u001B[38;5;28;01mexcept\u001B[39;00m \u001B[38;5;167;01mException\u001B[39;00m:\n\u001B[32m   1322\u001B[39m     \u001B[38;5;28mself\u001B[39m.log.warning(\u001B[33m\"\u001B[39m\u001B[33mInvalid Message:\u001B[39m\u001B[33m\"\u001B[39m, exc_info=\u001B[38;5;28;01mTrue\u001B[39;00m)\n",
      "\u001B[31mKeyboardInterrupt\u001B[39m: Interrupted by user"
     ]
    }
   ],
   "execution_count": 17
  }
 ],
 "metadata": {
  "kernelspec": {
   "display_name": ".venv (3.11.12)",
   "language": "python",
   "name": "python3"
  },
  "language_info": {
   "name": "python",
   "version": "3.11.12"
  }
 },
 "nbformat": 4,
 "nbformat_minor": 5
}
