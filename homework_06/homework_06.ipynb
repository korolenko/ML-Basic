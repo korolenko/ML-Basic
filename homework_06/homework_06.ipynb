{
 "cells": [
  {
   "cell_type": "markdown",
   "metadata": {
    "id": "rL70m2sic0jV"
   },
   "source": [
    "# “Git push -f” или после нас хоть потоп"
   ]
  },
  {
   "cell_type": "markdown",
   "metadata": {
    "id": "JVd5jRlPc0jY"
   },
   "source": [
    "# 0. Где мы сейчас?\n",
    "<img src=\"https://upload.wikimedia.org/wikipedia/commons/thumb/3/38/Jupyter_logo.svg/1200px-Jupyter_logo.svg.png\" width=\"150\">\n",
    "\n",
    "[Jupyter Notebook](https://jupyter.org/) - интерактивная среда для запуска программного кода в браузере. Удобный инструмент для анализа данных, который используется многими специалистами по data science. Позволяет выполнять отдельные ячейки с кодом, а не всю программу сразу, что очень удобно при знакомстве с данными."
   ]
  },
  {
   "cell_type": "markdown",
   "metadata": {
    "id": "k8hj3Kdvc0jZ"
   },
   "source": [
    "# 1. Python\n",
    "> Python - это свободный интерпретируемый объектно-ориентированный расширяемый встраиваемый язык программирования очень высокого уровня\n",
    "\n",
    ">*(Г.Россум, Ф.Л.Дж.Дрейк, Д.С.Откидач \"Язык программирования Python\").*\n",
    "\n",
    "А если без цитат, то питон - это просто очень крутой язык, созданный в 1991 году [Великодушным пожизненным диктатором](https://ru.wikipedia.org/wiki/%D0%92%D0%B5%D0%BB%D0%B8%D0%BA%D0%BE%D0%B4%D1%83%D1%88%D0%BD%D1%8B%D0%B9_%D0%BF%D0%BE%D0%B6%D0%B8%D0%B7%D0%BD%D0%B5%D0%BD%D0%BD%D1%8B%D0%B9_%D0%B4%D0%B8%D0%BA%D1%82%D0%B0%D1%82%D0%BE%D1%80) Гвидо ван Россумом и названный в честь любимого им шоу [Monty Python's Flying Circus](https://en.wikipedia.org/wiki/Monty_Python%27s_Flying_Circus)\n",
    "\n",
    "<img src=\"https://advancelocal-adapter-image-uploads.s3.amazonaws.com/image.oregonlive.com/home/olive-media/width2048/img/tv/photo/2018/10/10/montycastjpg-7ef393e2355a42aa.jpg\" width=\"300\">"
   ]
  },
  {
   "cell_type": "markdown",
   "metadata": {
    "id": "llQ9RXHfc0ja"
   },
   "source": [
    "# 2. Anaconda\n",
    "\n",
    "[Сборка Anaconda](https://www.anaconda.com/products/individual) включает очень много полезных библиотек для анализа данных.\n",
    "\n",
    "Среди наиболее популярных библиотек:\n",
    " - <a href=\"http://numpy.org\">Numpy</a> - это один из основных пакетов для математических вычислений. Он содержит средства для работы с многомерными массивами и высокоуровневыми математическими функциями\n",
    " - <a href=\"https://www.scipy.org/\">SciPy</a> - научные вычисления. Методы оптимизации, интегрирования, модули обработки сигналов и изображений, статистика, линейная алгебра, сплайны, кластеризация и многое другое\n",
    " -  <a href=\"http://pandas.pydata.org/\">Pandas</a> - основная библиотека для обработки и анализа данных. Предназначена для данных разной природы - матричных, панельных данных, временных рядов. Претендует на звание самого мощного и гибкого средства для анализа данных с открытым исходным кодом\n",
    " - <a href=\"http://scikit-learn.org/stable/\">Scikit-learn</a> - реализация очень многих методов машинного обучения с отличной документацией.\n",
    " - <a href=\"http://http://matplotlib.org/\">matplotlib</a> - хорошая библиотека для визуализации данных\n",
    "\n",
    " С этими библиотеками вы будете знакомится дальше на курсе, а пока давайте попрактикуемся в решении базовых задач на  чистом Python."
   ]
  },
  {
   "cell_type": "markdown",
   "metadata": {
    "id": "rfAcLe-Tc0ja"
   },
   "source": [
    "# 3. Задачки"
   ]
  },
  {
   "cell_type": "markdown",
   "metadata": {
    "id": "y7gWqyZpc0jb"
   },
   "source": [
    "## Задача 1\n",
    "$N$ хоббитов делят $K$ кусков эльфийского хлеба поровну, не делящийся нацело остаток остается в корзинке у Сэма. Напишите функцию, которая принимает на вход параметры $N$ и $K$ и возвращает два числа: $x$ - cколько кусков эльфиского хлеба достанется каждому хоббиту, и $y$ - сколько кусков остаётся в корзинке."
   ]
  },
  {
   "cell_type": "code",
   "metadata": {
    "id": "m9mteFtwc0jb",
    "ExecuteTime": {
     "end_time": "2025-09-17T13:45:05.917808Z",
     "start_time": "2025-09-17T13:45:05.914353Z"
    }
   },
   "source": [
    "def share_bread(N, K):\n",
    "    # your code here\n",
    "    x = K // N\n",
    "    y = K % N\n",
    "    return x, y\n",
    "\n",
    "# если в функции всё верно, то после выполнения этой строчки, не должно выскакивать ошибок\n",
    "assert share_bread(N=3, K=14) == (4, 2)"
   ],
   "outputs": [],
   "execution_count": 1
  },
  {
   "cell_type": "markdown",
   "metadata": {
    "id": "i24Th8I7c0jc"
   },
   "source": [
    "## Задача 2\n",
    "\n",
    "В копях Мории хоббиты нашли стену, на которой высечены разные натуральные числа. Согласно древним сказаниям, это даты сражений. Хоббиты знают, что сражения происходили только по високосным годам. Помогите хоббитам определить, является ли год с данным числом датой великого сражения. Если это так, то верните строку \"YOU SHALL PASS\", иначе верните \"YOU SHALL NOT PASS\". Напомним, что в соответствии с хоббитским календарем, год является високосным, если его номер кратен 4, но не кратен 100, а также если он кратен 400."
   ]
  },
  {
   "cell_type": "code",
   "metadata": {
    "id": "3SnU33pPc0jc",
    "ExecuteTime": {
     "end_time": "2025-09-17T13:47:01.625096Z",
     "start_time": "2025-09-17T13:47:01.622080Z"
    }
   },
   "source": [
    "def leap_year(year):\n",
    "    # your code here\n",
    "    text_result = ''\n",
    "    if year % 4 == 0 and year % 100 != 0 and year % 400 == 0:\n",
    "        text_result = 'YOU SHALL PASS'\n",
    "    else:\n",
    "        text_result = 'YOU SHALL NOT PASS'\n",
    "\n",
    "    return text_result\n",
    "\n",
    "assert leap_year(5) == 'YOU SHALL NOT PASS'"
   ],
   "outputs": [],
   "execution_count": 3
  },
  {
   "cell_type": "markdown",
   "metadata": {
    "id": "-oibBIG4c0jd"
   },
   "source": [
    "## Задача 3\n",
    "<img src=\"http://i0.kym-cdn.com/photos/images/original/001/187/255/5e9.gif\" width=300>\n",
    "\n",
    "\n",
    "Для могущественного магического ритуала Гендальфу необходимо быстро подсчитывать площадь своего амулета, который умеет менять размеры. Известно, что амулет имеет форму треугольника и Гендальф знает длину каждой из сторон. Напишите функцию, которая считает площадь амулета по трем сторонам.  \n",
    "\n",
    "**Подсказка:** используйте формулу Герона\n",
    "$$ S = \\sqrt{p(p-a)(p-b)(p-c)} $$\n",
    "$$ p = \\frac{a + b + c}{2}$$\n"
   ]
  },
  {
   "cell_type": "code",
   "metadata": {
    "id": "Uln7wcTVc0jd",
    "ExecuteTime": {
     "end_time": "2025-09-17T13:49:17.951229Z",
     "start_time": "2025-09-17T13:49:17.948177Z"
    }
   },
   "source": [
    "def amulet_area(a, b, c):\n",
    "    # your code here\n",
    "    p = (a + b + c) / 2\n",
    "    S = (p * (p - a) * (p - b) * (p - c)) ** 0.5\n",
    "    return S\n",
    "\n",
    "assert amulet_area(3, 4, 5) == 6"
   ],
   "outputs": [],
   "execution_count": 4
  },
  {
   "cell_type": "markdown",
   "metadata": {
    "id": "Os5KM6bQc0jd"
   },
   "source": [
    "## Задача 4\n",
    "\n",
    "Хоббиты собираются пешком идти до Мордора и им нужно подсчитать расстояние, которое им предстоит пройти. Хоббиты смогли вспомнить сразу несколько метрик расстояния: евклидово, манхэттена и косинусное, так что ваша задача - написать функцию под каждую из них. Важное условие - используйте только базовые функции для решения.\n",
    "\n",
    "\n",
    "* Евклидово расстояние\n",
    "$$ d(a, b) = \\sqrt{\\sum_i (a_i - b_i)^2} $$\n",
    "* Расстояние Манхэттена\n",
    "$$ d(a, b) = \\sum_i |a_i - b_i| $$\n",
    "* Косинусное расстояние\n",
    "$$ d(a, b) = 1 - \\frac{a^\\top b}{||a||_2\\cdot||b||_2}$$"
   ]
  },
  {
   "cell_type": "code",
   "metadata": {
    "id": "_21LOuZRc0jd",
    "ExecuteTime": {
     "end_time": "2025-09-17T14:20:36.397595Z",
     "start_time": "2025-09-17T14:20:36.393030Z"
    }
   },
   "source": [
    "def cal_euclidean(a, b):\n",
    "    ## Your code here\n",
    "    sum_elem = 0\n",
    "    for elem_a, elem_b in zip(a, b):\n",
    "        sum_elem += pow(elem_a - elem_b,2)\n",
    "    distance = sum_elem ** 0.5\n",
    "    return distance\n",
    "\n",
    "def cal_manhattan(a, b):\n",
    "    ## Your code here\n",
    "    distance = 0\n",
    "    for elem_a, elem_b in zip(a, b):\n",
    "        distance += abs(elem_a - elem_b,)\n",
    "    return distance\n",
    "\n",
    "\n",
    "def calc_norm(a):\n",
    "    norm = 0\n",
    "    for elem_a in a:\n",
    "        norm += elem_a ** 2\n",
    "    return norm ** 0.5\n",
    "\n",
    "def cal_cosine(a, b):\n",
    "    ## Your code here\n",
    "    scalar_mult = 1\n",
    "    for elem_a, elem_b in zip(a, b):\n",
    "        scalar_mult += elem_a * elem_b\n",
    "    norm_a = calc_norm(a)\n",
    "    norm_b = calc_norm(b)\n",
    "    distance = 1 - scalar_mult / (norm_a * norm_b)\n",
    "    return distance\n"
   ],
   "outputs": [],
   "execution_count": 33
  },
  {
   "cell_type": "code",
   "metadata": {
    "id": "fvyqAKchc0je",
    "ExecuteTime": {
     "end_time": "2025-09-17T14:53:03.355437Z",
     "start_time": "2025-09-17T14:53:03.351335Z"
    }
   },
   "source": [
    "import numpy as np\n",
    "a = np.random.randint(-10, 10, size=10)\n",
    "b = np.random.randint(-10, 10, size=10)\n",
    "\n",
    "print(cal_euclidean(a, b))\n",
    "print(cal_manhattan(a, b))\n",
    "print(cal_cosine(a, b))"
   ],
   "outputs": [
    {
     "name": "stdout",
     "output_type": "stream",
     "text": [
      "34.08812109811862\n",
      "100\n",
      "1.6970994433492597\n"
     ]
    }
   ],
   "execution_count": 52
  },
  {
   "cell_type": "markdown",
   "metadata": {
    "id": "w1L3GDw3c0je"
   },
   "source": [
    "## Задача 5* (бонусное неоцениваемое задание)\n",
    "\n",
    "**Замечание:** Поскольку библиотеку numpy мы будем подробно разбирать дальше, то это задание является бонусным, его выполнение необязательно для сдачи ДЗ и не влияет на итоговый балл. Как вариант, можете вернуться к нему после прохождения numpy ;)\n",
    "\n"
   ]
  },
  {
   "cell_type": "markdown",
   "metadata": {
    "id": "aEDIBiRpc0je"
   },
   "source": [
    "Создайте случайный array (`np.random.rand()`) длинной 100. Преобразуйте его так, чтобы\n",
    "* Максимальный элемент(ы) был равен 1\n",
    "* Минимальный элемент(ы) был равен 0\n",
    "* Остальные элементы в интервале от 0 до 1 остаются прежними"
   ]
  },
  {
   "cell_type": "code",
   "metadata": {
    "id": "AFye6XzXc0je",
    "ExecuteTime": {
     "end_time": "2025-09-18T06:53:07.854411Z",
     "start_time": "2025-09-18T06:53:07.422622Z"
    }
   },
   "source": [
    "my_array = ## Your code here\n",
    "print(np.max(my_array), np.min(my_array))\n",
    "print(my_array)"
   ],
   "outputs": [
    {
     "name": "stdout",
     "output_type": "stream",
     "text": [
      "0.9994206039810671 0.02396791845377677\n",
      "[0.41896137 0.0422874  0.66117033 0.2154423  0.13879252 0.14594596\n",
      " 0.59267787 0.547053   0.89295063 0.07335426 0.25231303 0.45012032\n",
      " 0.98040802 0.94402705 0.09849127 0.25011245 0.07321031 0.19726815\n",
      " 0.65902832 0.60022019 0.4487886  0.57336417 0.32843971 0.38789236\n",
      " 0.08307283 0.34153187 0.28177155 0.11419758 0.50822736 0.40669383\n",
      " 0.21499707 0.51538512 0.44204371 0.57057954 0.66387032 0.07752299\n",
      " 0.95689922 0.766288   0.16579714 0.79093544 0.64375204 0.48688714\n",
      " 0.068985   0.483213   0.93120168 0.40192935 0.75143005 0.42180394\n",
      " 0.53584315 0.27532823 0.57162423 0.21745628 0.90390974 0.89286852\n",
      " 0.76379932 0.64436442 0.83887789 0.25511191 0.55534981 0.59981849\n",
      " 0.27885905 0.9994206  0.80446336 0.64529979 0.09052195 0.17851431\n",
      " 0.77394983 0.03552978 0.96098737 0.96776653 0.53676908 0.08110662\n",
      " 0.47476568 0.58259963 0.83660406 0.87862468 0.74232494 0.82849198\n",
      " 0.55429918 0.81521675 0.62730151 0.38394737 0.2682892  0.90373108\n",
      " 0.50444753 0.55835126 0.16693371 0.6913732  0.59419191 0.84619112\n",
      " 0.41026412 0.49964874 0.61988105 0.08449292 0.85974177 0.02396792\n",
      " 0.3537309  0.37182413 0.6755031  0.06332965]\n"
     ]
    }
   ],
   "execution_count": 2
  },
  {
   "cell_type": "markdown",
   "metadata": {
    "id": "D84Jpwmmc0je"
   },
   "source": [
    "Создайте array размером $5 \\times 6$ с целыми числами в интервале [0,50]. Напечатайте колонку, которая содержит максимальный элемент полученной матрицы"
   ]
  },
  {
   "cell_type": "code",
   "metadata": {
    "id": "SXaKW9bec0je",
    "ExecuteTime": {
     "end_time": "2025-09-18T06:54:51.547990Z",
     "start_time": "2025-09-18T06:54:51.545329Z"
    }
   },
   "source": [
    "my_array = ## Your code here\n",
    "selected_column = ## Your code here\n",
    "print('Shape: ',my_array.shape)\n",
    "print('Array')\n",
    "print(my_array)\n",
    "print(selected_column)"
   ],
   "outputs": [
    {
     "name": "stdout",
     "output_type": "stream",
     "text": [
      "[[39  4 21 18  2 41]\n",
      " [ 6 29 20 22 24 18]\n",
      " [20  9 25 12 15 19]\n",
      " [45 47 44 26 46 49]\n",
      " [10 44 24 17 43 42]]\n"
     ]
    }
   ],
   "execution_count": 4
  },
  {
   "cell_type": "markdown",
   "metadata": {
    "id": "g3scUf0_c0je"
   },
   "source": [
    "Напишите функцию, которая принимает на вход матрицу (array) X и возвращает все её уникальные строки в виде новой матрицы."
   ]
  },
  {
   "cell_type": "code",
   "execution_count": null,
   "metadata": {
    "id": "75j1Kyzvc0je"
   },
   "outputs": [],
   "source": [
    "def get_unique_rows(X):\n",
    "    # Your code here\n",
    "    return X_unique"
   ]
  },
  {
   "cell_type": "code",
   "metadata": {
    "id": "HzY-9KwGc0je",
    "ExecuteTime": {
     "end_time": "2025-09-18T06:53:11.010672Z",
     "start_time": "2025-09-18T06:53:11.007425Z"
    }
   },
   "source": [
    "X = np.random.randint(4, 6, size=(10,3))\n",
    "print(X)"
   ],
   "outputs": [
    {
     "name": "stdout",
     "output_type": "stream",
     "text": [
      "[[4 5 4]\n",
      " [5 5 5]\n",
      " [4 5 5]\n",
      " [5 5 4]\n",
      " [4 4 4]\n",
      " [5 5 5]\n",
      " [4 5 5]\n",
      " [5 4 5]\n",
      " [5 5 5]\n",
      " [4 4 4]]\n"
     ]
    }
   ],
   "execution_count": 3
  },
  {
   "cell_type": "code",
   "execution_count": null,
   "metadata": {
    "id": "UiAM62AGc0jf"
   },
   "outputs": [],
   "source": [
    "get_unique_rows(X)"
   ]
  }
 ],
 "metadata": {
  "colab": {
   "provenance": []
  },
  "kernelspec": {
   "display_name": "Python 3",
   "language": "python",
   "name": "python3"
  },
  "language_info": {
   "codemirror_mode": {
    "name": "ipython",
    "version": 3
   },
   "file_extension": ".py",
   "mimetype": "text/x-python",
   "name": "python",
   "nbconvert_exporter": "python",
   "pygments_lexer": "ipython3",
   "version": "3.7.6"
  },
  "varInspector": {
   "cols": {
    "lenName": 16,
    "lenType": 16,
    "lenVar": 40
   },
   "kernels_config": {
    "python": {
     "delete_cmd_postfix": "",
     "delete_cmd_prefix": "del ",
     "library": "var_list.py",
     "varRefreshCmd": "print(var_dic_list())"
    },
    "r": {
     "delete_cmd_postfix": ") ",
     "delete_cmd_prefix": "rm(",
     "library": "var_list.r",
     "varRefreshCmd": "cat(var_dic_list()) "
    }
   },
   "types_to_exclude": [
    "module",
    "function",
    "builtin_function_or_method",
    "instance",
    "_Feature"
   ],
   "window_display": false
  }
 },
 "nbformat": 4,
 "nbformat_minor": 0
}
